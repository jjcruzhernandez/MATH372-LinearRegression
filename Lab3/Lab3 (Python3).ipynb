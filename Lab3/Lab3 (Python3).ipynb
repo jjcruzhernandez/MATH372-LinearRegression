{
 "cells": [
  {
   "cell_type": "markdown",
   "metadata": {},
   "source": [
    "# Lab 3: MLR with Boston Data (Python3)"
   ]
  },
  {
   "cell_type": "markdown",
   "metadata": {},
   "source": [
    "In the computational section of this Lab you will consider the Boston housing dataset\n",
    "found in the file boston.csv. This dataset records the median house value and several\n",
    "other variables for 506 neighborhoods around Boston in 1978. Specifically, the dataset\n",
    "contains observations from the following variables:\n",
    "\n",
    "* crim: per capita crime rate\n",
    "* zn: proportion of residential land zoned for lots over 25,000 sq. ft.\n",
    "* indus: proportion of non-retail business acreage\n",
    "* chas: dummy variable indicating whether the neighborhood is adjacent to the Charles River (1) or not (0)\n",
    "* nox: nitrogen oxide pollution concentration (parts per 10 million)\n",
    "* rm: average number of rooms per house\n",
    "* age: proportion of owner-occupied houses built prior to 1940\n",
    "* dis: weighted mean of distance to five Boston employment centers\n",
    "* rad: index of accessibility to radial highways\n",
    "* tax: property tax rate per 10,000 dollars\n",
    "* ptratio: pupil-teacher ratio\n",
    "* lstat: percent of population that have a “low” socioeconomic status\n",
    "* medv: median value of owner-occupied houses in $1000s\n",
    "\n",
    "Interest lies in understanding which factors influence the value of a house – and how they\n",
    "influence the value of a house. Interest also lies in predicting the value of a house in a\n",
    "neighborhood with specific traits. Your job in this Lab is to investigate these questions by\n",
    "completing each of the tasks below. Where computation is required, you must perform\n",
    "the calculations in both R and Python."
   ]
  },
  {
   "cell_type": "code",
   "execution_count": 39,
   "metadata": {},
   "outputs": [],
   "source": [
    "%matplotlib inline\n",
    "import os\n",
    "import pandas as pd\n",
    "import statsmodels.formula.api as smf\n",
    "import statsmodels.api as sm\n",
    "import scipy.stats as stats\n",
    "import matplotlib.pyplot as plt\n",
    "from statsmodels.sandbox.regression.predstd import wls_prediction_std as pi\n",
    "import numpy as np\n",
    "\n",
    "data = pd.read_csv('boston.csv')"
   ]
  },
  {
   "cell_type": "markdown",
   "metadata": {},
   "source": [
    "(a) Fit a multiple linear regression model relating medv to the twelve explanatory variables listed above and calculate and interpret that value of ${𝑅^{2}}$."
   ]
  },
  {
   "cell_type": "code",
   "execution_count": 40,
   "metadata": {},
   "outputs": [
    {
     "data": {
      "text/html": [
       "<table class=\"simpletable\">\n",
       "<caption>OLS Regression Results</caption>\n",
       "<tr>\n",
       "  <th>Dep. Variable:</th>          <td>medv</td>       <th>  R-squared:         </th> <td>   0.734</td> \n",
       "</tr>\n",
       "<tr>\n",
       "  <th>Model:</th>                   <td>OLS</td>       <th>  Adj. R-squared:    </th> <td>   0.728</td> \n",
       "</tr>\n",
       "<tr>\n",
       "  <th>Method:</th>             <td>Least Squares</td>  <th>  F-statistic:       </th> <td>   113.5</td> \n",
       "</tr>\n",
       "<tr>\n",
       "  <th>Date:</th>             <td>Wed, 17 Oct 2018</td> <th>  Prob (F-statistic):</th> <td>2.23e-133</td>\n",
       "</tr>\n",
       "<tr>\n",
       "  <th>Time:</th>                 <td>11:13:24</td>     <th>  Log-Likelihood:    </th> <td> -1504.9</td> \n",
       "</tr>\n",
       "<tr>\n",
       "  <th>No. Observations:</th>      <td>   506</td>      <th>  AIC:               </th> <td>   3036.</td> \n",
       "</tr>\n",
       "<tr>\n",
       "  <th>Df Residuals:</th>          <td>   493</td>      <th>  BIC:               </th> <td>   3091.</td> \n",
       "</tr>\n",
       "<tr>\n",
       "  <th>Df Model:</th>              <td>    12</td>      <th>                     </th>     <td> </td>    \n",
       "</tr>\n",
       "<tr>\n",
       "  <th>Covariance Type:</th>      <td>nonrobust</td>    <th>                     </th>     <td> </td>    \n",
       "</tr>\n",
       "</table>\n",
       "<table class=\"simpletable\">\n",
       "<tr>\n",
       "      <td></td>         <th>coef</th>     <th>std err</th>      <th>t</th>      <th>P>|t|</th>  <th>[0.025</th>    <th>0.975]</th>  \n",
       "</tr>\n",
       "<tr>\n",
       "  <th>Intercept</th> <td>   41.6173</td> <td>    4.936</td> <td>    8.431</td> <td> 0.000</td> <td>   31.919</td> <td>   51.316</td>\n",
       "</tr>\n",
       "<tr>\n",
       "  <th>crim</th>      <td>   -0.1214</td> <td>    0.033</td> <td>   -3.678</td> <td> 0.000</td> <td>   -0.186</td> <td>   -0.057</td>\n",
       "</tr>\n",
       "<tr>\n",
       "  <th>zn</th>        <td>    0.0470</td> <td>    0.014</td> <td>    3.384</td> <td> 0.001</td> <td>    0.020</td> <td>    0.074</td>\n",
       "</tr>\n",
       "<tr>\n",
       "  <th>indus</th>     <td>    0.0135</td> <td>    0.062</td> <td>    0.217</td> <td> 0.829</td> <td>   -0.109</td> <td>    0.136</td>\n",
       "</tr>\n",
       "<tr>\n",
       "  <th>chas</th>      <td>    2.8400</td> <td>    0.870</td> <td>    3.264</td> <td> 0.001</td> <td>    1.131</td> <td>    4.549</td>\n",
       "</tr>\n",
       "<tr>\n",
       "  <th>nox</th>       <td>  -18.7580</td> <td>    3.851</td> <td>   -4.870</td> <td> 0.000</td> <td>  -26.325</td> <td>  -11.191</td>\n",
       "</tr>\n",
       "<tr>\n",
       "  <th>rm</th>        <td>    3.6581</td> <td>    0.420</td> <td>    8.705</td> <td> 0.000</td> <td>    2.832</td> <td>    4.484</td>\n",
       "</tr>\n",
       "<tr>\n",
       "  <th>age</th>       <td>    0.0036</td> <td>    0.013</td> <td>    0.271</td> <td> 0.787</td> <td>   -0.023</td> <td>    0.030</td>\n",
       "</tr>\n",
       "<tr>\n",
       "  <th>dis</th>       <td>   -1.4908</td> <td>    0.202</td> <td>   -7.394</td> <td> 0.000</td> <td>   -1.887</td> <td>   -1.095</td>\n",
       "</tr>\n",
       "<tr>\n",
       "  <th>rad</th>       <td>    0.2894</td> <td>    0.067</td> <td>    4.325</td> <td> 0.000</td> <td>    0.158</td> <td>    0.421</td>\n",
       "</tr>\n",
       "<tr>\n",
       "  <th>tax</th>       <td>   -0.0127</td> <td>    0.004</td> <td>   -3.337</td> <td> 0.001</td> <td>   -0.020</td> <td>   -0.005</td>\n",
       "</tr>\n",
       "<tr>\n",
       "  <th>ptratio</th>   <td>   -0.9375</td> <td>    0.132</td> <td>   -7.091</td> <td> 0.000</td> <td>   -1.197</td> <td>   -0.678</td>\n",
       "</tr>\n",
       "<tr>\n",
       "  <th>lstat</th>     <td>   -0.5520</td> <td>    0.051</td> <td>  -10.897</td> <td> 0.000</td> <td>   -0.652</td> <td>   -0.452</td>\n",
       "</tr>\n",
       "</table>\n",
       "<table class=\"simpletable\">\n",
       "<tr>\n",
       "  <th>Omnibus:</th>       <td>171.096</td> <th>  Durbin-Watson:     </th> <td>   1.077</td> \n",
       "</tr>\n",
       "<tr>\n",
       "  <th>Prob(Omnibus):</th> <td> 0.000</td>  <th>  Jarque-Bera (JB):  </th> <td> 709.937</td> \n",
       "</tr>\n",
       "<tr>\n",
       "  <th>Skew:</th>          <td> 1.477</td>  <th>  Prob(JB):          </th> <td>6.90e-155</td>\n",
       "</tr>\n",
       "<tr>\n",
       "  <th>Kurtosis:</th>      <td> 7.995</td>  <th>  Cond. No.          </th> <td>1.17e+04</td> \n",
       "</tr>\n",
       "</table>"
      ],
      "text/plain": [
       "<class 'statsmodels.iolib.summary.Summary'>\n",
       "\"\"\"\n",
       "                            OLS Regression Results                            \n",
       "==============================================================================\n",
       "Dep. Variable:                   medv   R-squared:                       0.734\n",
       "Model:                            OLS   Adj. R-squared:                  0.728\n",
       "Method:                 Least Squares   F-statistic:                     113.5\n",
       "Date:                Wed, 17 Oct 2018   Prob (F-statistic):          2.23e-133\n",
       "Time:                        11:13:24   Log-Likelihood:                -1504.9\n",
       "No. Observations:                 506   AIC:                             3036.\n",
       "Df Residuals:                     493   BIC:                             3091.\n",
       "Df Model:                          12                                         \n",
       "Covariance Type:            nonrobust                                         \n",
       "==============================================================================\n",
       "                 coef    std err          t      P>|t|      [0.025      0.975]\n",
       "------------------------------------------------------------------------------\n",
       "Intercept     41.6173      4.936      8.431      0.000      31.919      51.316\n",
       "crim          -0.1214      0.033     -3.678      0.000      -0.186      -0.057\n",
       "zn             0.0470      0.014      3.384      0.001       0.020       0.074\n",
       "indus          0.0135      0.062      0.217      0.829      -0.109       0.136\n",
       "chas           2.8400      0.870      3.264      0.001       1.131       4.549\n",
       "nox          -18.7580      3.851     -4.870      0.000     -26.325     -11.191\n",
       "rm             3.6581      0.420      8.705      0.000       2.832       4.484\n",
       "age            0.0036      0.013      0.271      0.787      -0.023       0.030\n",
       "dis           -1.4908      0.202     -7.394      0.000      -1.887      -1.095\n",
       "rad            0.2894      0.067      4.325      0.000       0.158       0.421\n",
       "tax           -0.0127      0.004     -3.337      0.001      -0.020      -0.005\n",
       "ptratio       -0.9375      0.132     -7.091      0.000      -1.197      -0.678\n",
       "lstat         -0.5520      0.051    -10.897      0.000      -0.652      -0.452\n",
       "==============================================================================\n",
       "Omnibus:                      171.096   Durbin-Watson:                   1.077\n",
       "Prob(Omnibus):                  0.000   Jarque-Bera (JB):              709.937\n",
       "Skew:                           1.477   Prob(JB):                    6.90e-155\n",
       "Kurtosis:                       7.995   Cond. No.                     1.17e+04\n",
       "==============================================================================\n",
       "\n",
       "Warnings:\n",
       "[1] Standard Errors assume that the covariance matrix of the errors is correctly specified.\n",
       "[2] The condition number is large, 1.17e+04. This might indicate that there are\n",
       "strong multicollinearity or other numerical problems.\n",
       "\"\"\""
      ]
     },
     "execution_count": 40,
     "metadata": {},
     "output_type": "execute_result"
    }
   ],
   "source": [
    "mlr_model1 = smf.ols('medv ~ crim + zn + indus + chas + nox + rm + age + dis + rad + tax + ptratio + lstat', data = data).fit()\n",
    "mlr_model1.summary()"
   ]
  },
  {
   "cell_type": "markdown",
   "metadata": {},
   "source": [
    "This model explains 73.4% of the variation in median housing prices."
   ]
  },
  {
   "cell_type": "markdown",
   "metadata": {},
   "source": [
    "(b) Fit a multiple linear regression model relating medv to all of explanatory variables listed above – except indus – and calculate and interpret that value of ${𝑅^{2}}$."
   ]
  },
  {
   "cell_type": "code",
   "execution_count": 41,
   "metadata": {},
   "outputs": [
    {
     "data": {
      "text/html": [
       "<table class=\"simpletable\">\n",
       "<caption>OLS Regression Results</caption>\n",
       "<tr>\n",
       "  <th>Dep. Variable:</th>          <td>medv</td>       <th>  R-squared:         </th> <td>   0.734</td> \n",
       "</tr>\n",
       "<tr>\n",
       "  <th>Model:</th>                   <td>OLS</td>       <th>  Adj. R-squared:    </th> <td>   0.728</td> \n",
       "</tr>\n",
       "<tr>\n",
       "  <th>Method:</th>             <td>Least Squares</td>  <th>  F-statistic:       </th> <td>   124.1</td> \n",
       "</tr>\n",
       "<tr>\n",
       "  <th>Date:</th>             <td>Wed, 17 Oct 2018</td> <th>  Prob (F-statistic):</th> <td>2.00e-134</td>\n",
       "</tr>\n",
       "<tr>\n",
       "  <th>Time:</th>                 <td>11:13:24</td>     <th>  Log-Likelihood:    </th> <td> -1504.9</td> \n",
       "</tr>\n",
       "<tr>\n",
       "  <th>No. Observations:</th>      <td>   506</td>      <th>  AIC:               </th> <td>   3034.</td> \n",
       "</tr>\n",
       "<tr>\n",
       "  <th>Df Residuals:</th>          <td>   494</td>      <th>  BIC:               </th> <td>   3085.</td> \n",
       "</tr>\n",
       "<tr>\n",
       "  <th>Df Model:</th>              <td>    11</td>      <th>                     </th>     <td> </td>    \n",
       "</tr>\n",
       "<tr>\n",
       "  <th>Covariance Type:</th>      <td>nonrobust</td>    <th>                     </th>     <td> </td>    \n",
       "</tr>\n",
       "</table>\n",
       "<table class=\"simpletable\">\n",
       "<tr>\n",
       "      <td></td>         <th>coef</th>     <th>std err</th>      <th>t</th>      <th>P>|t|</th>  <th>[0.025</th>    <th>0.975]</th>  \n",
       "</tr>\n",
       "<tr>\n",
       "  <th>Intercept</th> <td>   41.5437</td> <td>    4.920</td> <td>    8.445</td> <td> 0.000</td> <td>   31.878</td> <td>   51.210</td>\n",
       "</tr>\n",
       "<tr>\n",
       "  <th>crim</th>      <td>   -0.1216</td> <td>    0.033</td> <td>   -3.691</td> <td> 0.000</td> <td>   -0.186</td> <td>   -0.057</td>\n",
       "</tr>\n",
       "<tr>\n",
       "  <th>zn</th>        <td>    0.0466</td> <td>    0.014</td> <td>    3.383</td> <td> 0.001</td> <td>    0.020</td> <td>    0.074</td>\n",
       "</tr>\n",
       "<tr>\n",
       "  <th>chas</th>      <td>    2.8591</td> <td>    0.865</td> <td>    3.307</td> <td> 0.001</td> <td>    1.160</td> <td>    4.558</td>\n",
       "</tr>\n",
       "<tr>\n",
       "  <th>nox</th>       <td>  -18.5349</td> <td>    3.708</td> <td>   -4.999</td> <td> 0.000</td> <td>  -25.819</td> <td>  -11.250</td>\n",
       "</tr>\n",
       "<tr>\n",
       "  <th>rm</th>        <td>    3.6500</td> <td>    0.418</td> <td>    8.728</td> <td> 0.000</td> <td>    2.828</td> <td>    4.472</td>\n",
       "</tr>\n",
       "<tr>\n",
       "  <th>age</th>       <td>    0.0036</td> <td>    0.013</td> <td>    0.271</td> <td> 0.787</td> <td>   -0.023</td> <td>    0.030</td>\n",
       "</tr>\n",
       "<tr>\n",
       "  <th>dis</th>       <td>   -1.5000</td> <td>    0.197</td> <td>   -7.617</td> <td> 0.000</td> <td>   -1.887</td> <td>   -1.113</td>\n",
       "</tr>\n",
       "<tr>\n",
       "  <th>rad</th>       <td>    0.2854</td> <td>    0.064</td> <td>    4.443</td> <td> 0.000</td> <td>    0.159</td> <td>    0.412</td>\n",
       "</tr>\n",
       "<tr>\n",
       "  <th>tax</th>       <td>   -0.0123</td> <td>    0.003</td> <td>   -3.611</td> <td> 0.000</td> <td>   -0.019</td> <td>   -0.006</td>\n",
       "</tr>\n",
       "<tr>\n",
       "  <th>ptratio</th>   <td>   -0.9338</td> <td>    0.131</td> <td>   -7.130</td> <td> 0.000</td> <td>   -1.191</td> <td>   -0.676</td>\n",
       "</tr>\n",
       "<tr>\n",
       "  <th>lstat</th>     <td>   -0.5511</td> <td>    0.050</td> <td>  -10.927</td> <td> 0.000</td> <td>   -0.650</td> <td>   -0.452</td>\n",
       "</tr>\n",
       "</table>\n",
       "<table class=\"simpletable\">\n",
       "<tr>\n",
       "  <th>Omnibus:</th>       <td>171.179</td> <th>  Durbin-Watson:     </th> <td>   1.077</td> \n",
       "</tr>\n",
       "<tr>\n",
       "  <th>Prob(Omnibus):</th> <td> 0.000</td>  <th>  Jarque-Bera (JB):  </th> <td> 710.910</td> \n",
       "</tr>\n",
       "<tr>\n",
       "  <th>Skew:</th>          <td> 1.477</td>  <th>  Prob(JB):          </th> <td>4.24e-155</td>\n",
       "</tr>\n",
       "<tr>\n",
       "  <th>Kurtosis:</th>      <td> 7.999</td>  <th>  Cond. No.          </th> <td>1.16e+04</td> \n",
       "</tr>\n",
       "</table>"
      ],
      "text/plain": [
       "<class 'statsmodels.iolib.summary.Summary'>\n",
       "\"\"\"\n",
       "                            OLS Regression Results                            \n",
       "==============================================================================\n",
       "Dep. Variable:                   medv   R-squared:                       0.734\n",
       "Model:                            OLS   Adj. R-squared:                  0.728\n",
       "Method:                 Least Squares   F-statistic:                     124.1\n",
       "Date:                Wed, 17 Oct 2018   Prob (F-statistic):          2.00e-134\n",
       "Time:                        11:13:24   Log-Likelihood:                -1504.9\n",
       "No. Observations:                 506   AIC:                             3034.\n",
       "Df Residuals:                     494   BIC:                             3085.\n",
       "Df Model:                          11                                         \n",
       "Covariance Type:            nonrobust                                         \n",
       "==============================================================================\n",
       "                 coef    std err          t      P>|t|      [0.025      0.975]\n",
       "------------------------------------------------------------------------------\n",
       "Intercept     41.5437      4.920      8.445      0.000      31.878      51.210\n",
       "crim          -0.1216      0.033     -3.691      0.000      -0.186      -0.057\n",
       "zn             0.0466      0.014      3.383      0.001       0.020       0.074\n",
       "chas           2.8591      0.865      3.307      0.001       1.160       4.558\n",
       "nox          -18.5349      3.708     -4.999      0.000     -25.819     -11.250\n",
       "rm             3.6500      0.418      8.728      0.000       2.828       4.472\n",
       "age            0.0036      0.013      0.271      0.787      -0.023       0.030\n",
       "dis           -1.5000      0.197     -7.617      0.000      -1.887      -1.113\n",
       "rad            0.2854      0.064      4.443      0.000       0.159       0.412\n",
       "tax           -0.0123      0.003     -3.611      0.000      -0.019      -0.006\n",
       "ptratio       -0.9338      0.131     -7.130      0.000      -1.191      -0.676\n",
       "lstat         -0.5511      0.050    -10.927      0.000      -0.650      -0.452\n",
       "==============================================================================\n",
       "Omnibus:                      171.179   Durbin-Watson:                   1.077\n",
       "Prob(Omnibus):                  0.000   Jarque-Bera (JB):              710.910\n",
       "Skew:                           1.477   Prob(JB):                    4.24e-155\n",
       "Kurtosis:                       7.999   Cond. No.                     1.16e+04\n",
       "==============================================================================\n",
       "\n",
       "Warnings:\n",
       "[1] Standard Errors assume that the covariance matrix of the errors is correctly specified.\n",
       "[2] The condition number is large, 1.16e+04. This might indicate that there are\n",
       "strong multicollinearity or other numerical problems.\n",
       "\"\"\""
      ]
     },
     "execution_count": 41,
     "metadata": {},
     "output_type": "execute_result"
    }
   ],
   "source": [
    "mlr_model2 = smf.ols('medv ~ crim + zn + chas + nox + rm + age + dis + rad + tax + ptratio + lstat', data = data).fit()\n",
    "mlr_model2.summary()"
   ]
  },
  {
   "cell_type": "markdown",
   "metadata": {},
   "source": [
    "This model explains 73.4% of the variation in median housing prices."
   ]
  },
  {
   "cell_type": "markdown",
   "metadata": {},
   "source": [
    "(c) Fit a multiple linear regression model relating medv to all of explanatory variables listed above – except indus and age – and calculate and interpret that value of ${𝑅^{2}}$."
   ]
  },
  {
   "cell_type": "code",
   "execution_count": 42,
   "metadata": {},
   "outputs": [
    {
     "data": {
      "text/html": [
       "<table class=\"simpletable\">\n",
       "<caption>OLS Regression Results</caption>\n",
       "<tr>\n",
       "  <th>Dep. Variable:</th>          <td>medv</td>       <th>  R-squared:         </th> <td>   0.734</td> \n",
       "</tr>\n",
       "<tr>\n",
       "  <th>Model:</th>                   <td>OLS</td>       <th>  Adj. R-squared:    </th> <td>   0.729</td> \n",
       "</tr>\n",
       "<tr>\n",
       "  <th>Method:</th>             <td>Least Squares</td>  <th>  F-statistic:       </th> <td>   136.8</td> \n",
       "</tr>\n",
       "<tr>\n",
       "  <th>Date:</th>             <td>Wed, 17 Oct 2018</td> <th>  Prob (F-statistic):</th> <td>1.73e-135</td>\n",
       "</tr>\n",
       "<tr>\n",
       "  <th>Time:</th>                 <td>11:13:25</td>     <th>  Log-Likelihood:    </th> <td> -1505.0</td> \n",
       "</tr>\n",
       "<tr>\n",
       "  <th>No. Observations:</th>      <td>   506</td>      <th>  AIC:               </th> <td>   3032.</td> \n",
       "</tr>\n",
       "<tr>\n",
       "  <th>Df Residuals:</th>          <td>   495</td>      <th>  BIC:               </th> <td>   3078.</td> \n",
       "</tr>\n",
       "<tr>\n",
       "  <th>Df Model:</th>              <td>    10</td>      <th>                     </th>     <td> </td>    \n",
       "</tr>\n",
       "<tr>\n",
       "  <th>Covariance Type:</th>      <td>nonrobust</td>    <th>                     </th>     <td> </td>    \n",
       "</tr>\n",
       "</table>\n",
       "<table class=\"simpletable\">\n",
       "<tr>\n",
       "      <td></td>         <th>coef</th>     <th>std err</th>      <th>t</th>      <th>P>|t|</th>  <th>[0.025</th>    <th>0.975]</th>  \n",
       "</tr>\n",
       "<tr>\n",
       "  <th>Intercept</th> <td>   41.4517</td> <td>    4.903</td> <td>    8.454</td> <td> 0.000</td> <td>   31.818</td> <td>   51.086</td>\n",
       "</tr>\n",
       "<tr>\n",
       "  <th>crim</th>      <td>   -0.1217</td> <td>    0.033</td> <td>   -3.696</td> <td> 0.000</td> <td>   -0.186</td> <td>   -0.057</td>\n",
       "</tr>\n",
       "<tr>\n",
       "  <th>zn</th>        <td>    0.0462</td> <td>    0.014</td> <td>    3.378</td> <td> 0.001</td> <td>    0.019</td> <td>    0.073</td>\n",
       "</tr>\n",
       "<tr>\n",
       "  <th>chas</th>      <td>    2.8719</td> <td>    0.863</td> <td>    3.329</td> <td> 0.001</td> <td>    1.177</td> <td>    4.567</td>\n",
       "</tr>\n",
       "<tr>\n",
       "  <th>nox</th>       <td>  -18.2624</td> <td>    3.565</td> <td>   -5.122</td> <td> 0.000</td> <td>  -25.267</td> <td>  -11.258</td>\n",
       "</tr>\n",
       "<tr>\n",
       "  <th>rm</th>        <td>    3.6730</td> <td>    0.409</td> <td>    8.978</td> <td> 0.000</td> <td>    2.869</td> <td>    4.477</td>\n",
       "</tr>\n",
       "<tr>\n",
       "  <th>dis</th>       <td>   -1.5160</td> <td>    0.188</td> <td>   -8.078</td> <td> 0.000</td> <td>   -1.885</td> <td>   -1.147</td>\n",
       "</tr>\n",
       "<tr>\n",
       "  <th>rad</th>       <td>    0.2839</td> <td>    0.064</td> <td>    4.440</td> <td> 0.000</td> <td>    0.158</td> <td>    0.410</td>\n",
       "</tr>\n",
       "<tr>\n",
       "  <th>tax</th>       <td>   -0.0123</td> <td>    0.003</td> <td>   -3.608</td> <td> 0.000</td> <td>   -0.019</td> <td>   -0.006</td>\n",
       "</tr>\n",
       "<tr>\n",
       "  <th>ptratio</th>   <td>   -0.9310</td> <td>    0.130</td> <td>   -7.138</td> <td> 0.000</td> <td>   -1.187</td> <td>   -0.675</td>\n",
       "</tr>\n",
       "<tr>\n",
       "  <th>lstat</th>     <td>   -0.5465</td> <td>    0.047</td> <td>  -11.519</td> <td> 0.000</td> <td>   -0.640</td> <td>   -0.453</td>\n",
       "</tr>\n",
       "</table>\n",
       "<table class=\"simpletable\">\n",
       "<tr>\n",
       "  <th>Omnibus:</th>       <td>172.594</td> <th>  Durbin-Watson:     </th> <td>   1.074</td> \n",
       "</tr>\n",
       "<tr>\n",
       "  <th>Prob(Omnibus):</th> <td> 0.000</td>  <th>  Jarque-Bera (JB):  </th> <td> 725.971</td> \n",
       "</tr>\n",
       "<tr>\n",
       "  <th>Skew:</th>          <td> 1.486</td>  <th>  Prob(JB):          </th> <td>2.28e-158</td>\n",
       "</tr>\n",
       "<tr>\n",
       "  <th>Kurtosis:</th>      <td> 8.060</td>  <th>  Cond. No.          </th> <td>1.13e+04</td> \n",
       "</tr>\n",
       "</table>"
      ],
      "text/plain": [
       "<class 'statsmodels.iolib.summary.Summary'>\n",
       "\"\"\"\n",
       "                            OLS Regression Results                            \n",
       "==============================================================================\n",
       "Dep. Variable:                   medv   R-squared:                       0.734\n",
       "Model:                            OLS   Adj. R-squared:                  0.729\n",
       "Method:                 Least Squares   F-statistic:                     136.8\n",
       "Date:                Wed, 17 Oct 2018   Prob (F-statistic):          1.73e-135\n",
       "Time:                        11:13:25   Log-Likelihood:                -1505.0\n",
       "No. Observations:                 506   AIC:                             3032.\n",
       "Df Residuals:                     495   BIC:                             3078.\n",
       "Df Model:                          10                                         \n",
       "Covariance Type:            nonrobust                                         \n",
       "==============================================================================\n",
       "                 coef    std err          t      P>|t|      [0.025      0.975]\n",
       "------------------------------------------------------------------------------\n",
       "Intercept     41.4517      4.903      8.454      0.000      31.818      51.086\n",
       "crim          -0.1217      0.033     -3.696      0.000      -0.186      -0.057\n",
       "zn             0.0462      0.014      3.378      0.001       0.019       0.073\n",
       "chas           2.8719      0.863      3.329      0.001       1.177       4.567\n",
       "nox          -18.2624      3.565     -5.122      0.000     -25.267     -11.258\n",
       "rm             3.6730      0.409      8.978      0.000       2.869       4.477\n",
       "dis           -1.5160      0.188     -8.078      0.000      -1.885      -1.147\n",
       "rad            0.2839      0.064      4.440      0.000       0.158       0.410\n",
       "tax           -0.0123      0.003     -3.608      0.000      -0.019      -0.006\n",
       "ptratio       -0.9310      0.130     -7.138      0.000      -1.187      -0.675\n",
       "lstat         -0.5465      0.047    -11.519      0.000      -0.640      -0.453\n",
       "==============================================================================\n",
       "Omnibus:                      172.594   Durbin-Watson:                   1.074\n",
       "Prob(Omnibus):                  0.000   Jarque-Bera (JB):              725.971\n",
       "Skew:                           1.486   Prob(JB):                    2.28e-158\n",
       "Kurtosis:                       8.060   Cond. No.                     1.13e+04\n",
       "==============================================================================\n",
       "\n",
       "Warnings:\n",
       "[1] Standard Errors assume that the covariance matrix of the errors is correctly specified.\n",
       "[2] The condition number is large, 1.13e+04. This might indicate that there are\n",
       "strong multicollinearity or other numerical problems.\n",
       "\"\"\""
      ]
     },
     "execution_count": 42,
     "metadata": {},
     "output_type": "execute_result"
    }
   ],
   "source": [
    "mlr_model3 = smf.ols('medv ~ crim + zn + chas + nox + rm + dis + rad + tax + ptratio + lstat', data = data).fit()\n",
    "mlr_model3.summary()"
   ]
  },
  {
   "cell_type": "markdown",
   "metadata": {},
   "source": [
    "This model explains 73.4% of the variation in median housing prices."
   ]
  },
  {
   "cell_type": "markdown",
   "metadata": {},
   "source": [
    "(d) By commenting on ${𝑅^{2}}$ values and relevant p-values, comment on whether the proportion of industrial land in a neighborhood and the neighborhood’s age significantly influence the median value of a house in that neighborhood."
   ]
  },
  {
   "cell_type": "markdown",
   "metadata": {},
   "source": [
    "In the model from part (a), we can see that the indus and age both have large p=values indicating that they are significant. Therefore, ${𝛽_{3}}$ = ${𝛽_{7}}$ = 0. The models from part (b) and (c), we notice that the ${𝑅^{2}}$ value does NOT change when removing indus or both indus and age showing these variables do NOT explain the variation in median housing prices. This is "
   ]
  },
  {
   "cell_type": "markdown",
   "metadata": {},
   "source": [
    "(e) Use the additional sum of squares principle to formally test\n",
    "\n",
    "${H_{0}}$: ${𝛽_{3}}$ = ${𝛽_{7}}$ = 0 vs. ${H_{A}}$: ${𝛽_{j}}$ ≠ 0\n",
    "\n",
    "for 𝑗 = 3, 7, and draw a conclusion, at a 5% level of significance, regarding\n",
    "whether indus and age significantly influence medv."
   ]
  },
  {
   "cell_type": "code",
   "execution_count": 43,
   "metadata": {
    "scrolled": true
   },
   "outputs": [
    {
     "name": "stdout",
     "output_type": "stream",
     "text": [
      "p-value = 0.9416664089606118\n",
      "F0 = 0.060111525951277806\n"
     ]
    }
   ],
   "source": [
    "SSEfull = mlr_model1.ssr\n",
    "SSEreduced = mlr_model3.ssr\n",
    "l = 2\n",
    "n = data.shape[0]\n",
    "p = data.shape[1]-1\n",
    "F0 = ((SSEreduced - SSEfull)/l) / (SSEfull / (n-p-1))\n",
    "pval = 1 - stats.f.cdf(F0, dfn = l, dfd = n-p-1)\n",
    "\n",
    "print(\"p-value =\", pval)\n",
    "print(\"F0 =\", F0)"
   ]
  },
  {
   "cell_type": "markdown",
   "metadata": {},
   "source": [
    "The test statistic, ${F_{0}}$ = 0.06011, compares the error sum of squares between the full and reduced model. The p-value for this test, P(${F_{2493}}$≥0.06011) = 0.94166, is big. Therefore, we do NOT reject the null hypothesis. In conclusion, indus and age do NOT significantly influence medv since ${𝛽_{3}}$ = ${𝛽_{7}}$ = 0  is true."
   ]
  },
  {
   "cell_type": "markdown",
   "metadata": {},
   "source": [
    "(f) In the context of the reduced model (i.e., without indus and age), interpret each of the regression coefficients."
   ]
  },
  {
   "cell_type": "code",
   "execution_count": 44,
   "metadata": {},
   "outputs": [
    {
     "data": {
      "text/html": [
       "<table class=\"simpletable\">\n",
       "<caption>OLS Regression Results</caption>\n",
       "<tr>\n",
       "  <th>Dep. Variable:</th>          <td>medv</td>       <th>  R-squared:         </th> <td>   0.734</td> \n",
       "</tr>\n",
       "<tr>\n",
       "  <th>Model:</th>                   <td>OLS</td>       <th>  Adj. R-squared:    </th> <td>   0.729</td> \n",
       "</tr>\n",
       "<tr>\n",
       "  <th>Method:</th>             <td>Least Squares</td>  <th>  F-statistic:       </th> <td>   136.8</td> \n",
       "</tr>\n",
       "<tr>\n",
       "  <th>Date:</th>             <td>Wed, 17 Oct 2018</td> <th>  Prob (F-statistic):</th> <td>1.73e-135</td>\n",
       "</tr>\n",
       "<tr>\n",
       "  <th>Time:</th>                 <td>11:13:27</td>     <th>  Log-Likelihood:    </th> <td> -1505.0</td> \n",
       "</tr>\n",
       "<tr>\n",
       "  <th>No. Observations:</th>      <td>   506</td>      <th>  AIC:               </th> <td>   3032.</td> \n",
       "</tr>\n",
       "<tr>\n",
       "  <th>Df Residuals:</th>          <td>   495</td>      <th>  BIC:               </th> <td>   3078.</td> \n",
       "</tr>\n",
       "<tr>\n",
       "  <th>Df Model:</th>              <td>    10</td>      <th>                     </th>     <td> </td>    \n",
       "</tr>\n",
       "<tr>\n",
       "  <th>Covariance Type:</th>      <td>nonrobust</td>    <th>                     </th>     <td> </td>    \n",
       "</tr>\n",
       "</table>\n",
       "<table class=\"simpletable\">\n",
       "<tr>\n",
       "      <td></td>         <th>coef</th>     <th>std err</th>      <th>t</th>      <th>P>|t|</th>  <th>[0.025</th>    <th>0.975]</th>  \n",
       "</tr>\n",
       "<tr>\n",
       "  <th>Intercept</th> <td>   41.4517</td> <td>    4.903</td> <td>    8.454</td> <td> 0.000</td> <td>   31.818</td> <td>   51.086</td>\n",
       "</tr>\n",
       "<tr>\n",
       "  <th>crim</th>      <td>   -0.1217</td> <td>    0.033</td> <td>   -3.696</td> <td> 0.000</td> <td>   -0.186</td> <td>   -0.057</td>\n",
       "</tr>\n",
       "<tr>\n",
       "  <th>zn</th>        <td>    0.0462</td> <td>    0.014</td> <td>    3.378</td> <td> 0.001</td> <td>    0.019</td> <td>    0.073</td>\n",
       "</tr>\n",
       "<tr>\n",
       "  <th>chas</th>      <td>    2.8719</td> <td>    0.863</td> <td>    3.329</td> <td> 0.001</td> <td>    1.177</td> <td>    4.567</td>\n",
       "</tr>\n",
       "<tr>\n",
       "  <th>nox</th>       <td>  -18.2624</td> <td>    3.565</td> <td>   -5.122</td> <td> 0.000</td> <td>  -25.267</td> <td>  -11.258</td>\n",
       "</tr>\n",
       "<tr>\n",
       "  <th>rm</th>        <td>    3.6730</td> <td>    0.409</td> <td>    8.978</td> <td> 0.000</td> <td>    2.869</td> <td>    4.477</td>\n",
       "</tr>\n",
       "<tr>\n",
       "  <th>dis</th>       <td>   -1.5160</td> <td>    0.188</td> <td>   -8.078</td> <td> 0.000</td> <td>   -1.885</td> <td>   -1.147</td>\n",
       "</tr>\n",
       "<tr>\n",
       "  <th>rad</th>       <td>    0.2839</td> <td>    0.064</td> <td>    4.440</td> <td> 0.000</td> <td>    0.158</td> <td>    0.410</td>\n",
       "</tr>\n",
       "<tr>\n",
       "  <th>tax</th>       <td>   -0.0123</td> <td>    0.003</td> <td>   -3.608</td> <td> 0.000</td> <td>   -0.019</td> <td>   -0.006</td>\n",
       "</tr>\n",
       "<tr>\n",
       "  <th>ptratio</th>   <td>   -0.9310</td> <td>    0.130</td> <td>   -7.138</td> <td> 0.000</td> <td>   -1.187</td> <td>   -0.675</td>\n",
       "</tr>\n",
       "<tr>\n",
       "  <th>lstat</th>     <td>   -0.5465</td> <td>    0.047</td> <td>  -11.519</td> <td> 0.000</td> <td>   -0.640</td> <td>   -0.453</td>\n",
       "</tr>\n",
       "</table>\n",
       "<table class=\"simpletable\">\n",
       "<tr>\n",
       "  <th>Omnibus:</th>       <td>172.594</td> <th>  Durbin-Watson:     </th> <td>   1.074</td> \n",
       "</tr>\n",
       "<tr>\n",
       "  <th>Prob(Omnibus):</th> <td> 0.000</td>  <th>  Jarque-Bera (JB):  </th> <td> 725.971</td> \n",
       "</tr>\n",
       "<tr>\n",
       "  <th>Skew:</th>          <td> 1.486</td>  <th>  Prob(JB):          </th> <td>2.28e-158</td>\n",
       "</tr>\n",
       "<tr>\n",
       "  <th>Kurtosis:</th>      <td> 8.060</td>  <th>  Cond. No.          </th> <td>1.13e+04</td> \n",
       "</tr>\n",
       "</table>"
      ],
      "text/plain": [
       "<class 'statsmodels.iolib.summary.Summary'>\n",
       "\"\"\"\n",
       "                            OLS Regression Results                            \n",
       "==============================================================================\n",
       "Dep. Variable:                   medv   R-squared:                       0.734\n",
       "Model:                            OLS   Adj. R-squared:                  0.729\n",
       "Method:                 Least Squares   F-statistic:                     136.8\n",
       "Date:                Wed, 17 Oct 2018   Prob (F-statistic):          1.73e-135\n",
       "Time:                        11:13:27   Log-Likelihood:                -1505.0\n",
       "No. Observations:                 506   AIC:                             3032.\n",
       "Df Residuals:                     495   BIC:                             3078.\n",
       "Df Model:                          10                                         \n",
       "Covariance Type:            nonrobust                                         \n",
       "==============================================================================\n",
       "                 coef    std err          t      P>|t|      [0.025      0.975]\n",
       "------------------------------------------------------------------------------\n",
       "Intercept     41.4517      4.903      8.454      0.000      31.818      51.086\n",
       "crim          -0.1217      0.033     -3.696      0.000      -0.186      -0.057\n",
       "zn             0.0462      0.014      3.378      0.001       0.019       0.073\n",
       "chas           2.8719      0.863      3.329      0.001       1.177       4.567\n",
       "nox          -18.2624      3.565     -5.122      0.000     -25.267     -11.258\n",
       "rm             3.6730      0.409      8.978      0.000       2.869       4.477\n",
       "dis           -1.5160      0.188     -8.078      0.000      -1.885      -1.147\n",
       "rad            0.2839      0.064      4.440      0.000       0.158       0.410\n",
       "tax           -0.0123      0.003     -3.608      0.000      -0.019      -0.006\n",
       "ptratio       -0.9310      0.130     -7.138      0.000      -1.187      -0.675\n",
       "lstat         -0.5465      0.047    -11.519      0.000      -0.640      -0.453\n",
       "==============================================================================\n",
       "Omnibus:                      172.594   Durbin-Watson:                   1.074\n",
       "Prob(Omnibus):                  0.000   Jarque-Bera (JB):              725.971\n",
       "Skew:                           1.486   Prob(JB):                    2.28e-158\n",
       "Kurtosis:                       8.060   Cond. No.                     1.13e+04\n",
       "==============================================================================\n",
       "\n",
       "Warnings:\n",
       "[1] Standard Errors assume that the covariance matrix of the errors is correctly specified.\n",
       "[2] The condition number is large, 1.13e+04. This might indicate that there are\n",
       "strong multicollinearity or other numerical problems.\n",
       "\"\"\""
      ]
     },
     "execution_count": 44,
     "metadata": {},
     "output_type": "execute_result"
    }
   ],
   "source": [
    "mlr_model3.summary()"
   ]
  },
  {
   "cell_type": "markdown",
   "metadata": {},
   "source": [
    "$\\hat{𝛽_{0}}$ = 41.4517 => The expected median house price in a neighborhood where all of the explanatory variables are equal to 0 is $41,451.75\n",
    "\n",
    "$\\hat{𝛽_{1}}$ = -0.1217 => For a unit increase in crime rate, the median house price is expected is expected to DECREASE by $121.67\n",
    "\n",
    "$\\hat{𝛽_{2}}$ = 0.0462 => For a unit increase in the proportion of residential land zoned for lots over 25,000 sq. ft., the median house price is expected to INCREASE by $46.19 \n",
    "\n",
    "$\\hat{𝛽_{3}}$ = 2.8719 => For a unit increase in the proportion of residential land zoned for lots over 25,000 sq. ft., the median house price of houses on the Charles river is expected to INCREASE by $2,871.87\n",
    "\n",
    "$\\hat{𝛽_{4}}$ = -18.2624 => For a unit increase in nitrogen oxide levels, the median house price is expected to DECREASE by $18,262.43\n",
    "\n",
    "$\\hat{𝛽_{5}}$ = 3.6730 => For every additional room in the house, the median house price is expected to INCREASE by $3,672.96\n",
    "\n",
    "$\\hat{𝛽_{6}}$ = -1.5160 => For a unit increase in the weighted mean of distance to 5 Boston employment centers, the median house price is expected to DECREASE by $1,515.95\n",
    "\n",
    "$\\hat{𝛽_{7}}$ = 0.2839 => For a unit increase in the index of accessibility to Boston's radial highways, the median house price is expected to INCREASE by $283.93\n",
    "\n",
    "$\\hat{𝛽_{8}}$ = -0.0123 i=> For \\$10,000 increase in property taxes, the median house price is expected to DECREASE by $12.29\n",
    "\n",
    "$\\hat{𝛽_{9}}$ = -0.9310 => For a unit increase in the pupil-teacher ratio, the median house price is expected to DECREASE by $930.96\n",
    "\n",
    "$\\hat{𝛽_{10}}$ = -0.5465 => For a unit increase in the percent of the population that have a \"low\" socioeconomic status, the median house price is expected to DECREASE by $546.51"
   ]
  },
  {
   "cell_type": "markdown",
   "metadata": {},
   "source": [
    "(g) In the context of the reduced model (i.e., without indus and age), provide a point prediction (and a 95% prediction interval) for the median house value in a neighborhood for which\n",
    "* crim = 5\n",
    "* zn = 10\n",
    "* chas = 1\n",
    "* nox = 0.6\n",
    "* rm = 3\n",
    "* dis = 4\n",
    "* rad = 10\n",
    "* tax = 500\n",
    "* ptratio = 15\n",
    "* lstat = 10\n"
   ]
  },
  {
   "cell_type": "code",
   "execution_count": 45,
   "metadata": {},
   "outputs": [
    {
     "name": "stdout",
     "output_type": "stream",
     "text": [
      "Prediction: 15.43887911936219\n",
      "Lower 95% Prediction Limit: 5.417009555895882\n",
      "Upper 95% Prediction Limit: 25.460748682828495\n"
     ]
    }
   ],
   "source": [
    "prediction = mlr_model3.predict(exog = dict(crim=[5], zn=[10], chas=[1], nox=[0.6], rm=[3], dis=[4], rad=[10], tax=[500], ptratio=[15], lstat=[10]))\n",
    "ignore, lwr, upr = pi(mlr_model3, exog = [1, 5, 10, 1, 0.6, 3, 4, 10, 500, 15, 10], alpha = 0.05)\n",
    "print(\"Prediction:\", prediction[0])\n",
    "print(\"Lower 95% Prediction Limit:\", lwr[0])\n",
    "print(\"Upper 95% Prediction Limit:\", upr[0])"
   ]
  },
  {
   "cell_type": "markdown",
   "metadata": {},
   "source": [
    "The median house value in such a neighborhood is predicted to be \\$15,438.88 dollars, with lower 95%  prediction limit of \\$5,417.01 and upper 95%  prediction limit of \\$25,460.75"
   ]
  },
  {
   "cell_type": "markdown",
   "metadata": {},
   "source": [
    "(h) In the context of the reduced model (i.e., without indus and age), construct the\n",
    "following four plots\n",
    "\n",
    "i. Studentized Residuals vs. Index\n",
    "\n",
    "ii. Studentized Residuals vs. Fitted Values\n",
    "\n",
    "iii. Histogram of Studentized Residuals\n",
    "\n",
    "iv. QQ-Plot of Studentized Residuals\n",
    "\n",
    "Using these plots decide whether the residuals appear to be independent, normally\n",
    "distributed and have constant variance."
   ]
  },
  {
   "cell_type": "code",
   "execution_count": 46,
   "metadata": {},
   "outputs": [
    {
     "data": {
      "text/plain": [
       "<matplotlib.text.Text at 0x11b019208>"
      ]
     },
     "execution_count": 46,
     "metadata": {},
     "output_type": "execute_result"
    },
    {
     "data": {
      "image/png": "[encoded data removed]",
      "text/plain": [
       "<matplotlib.figure.Figure at 0x11a96ee10>"
      ]
     },
     "metadata": {},
     "output_type": "display_data"
    },
    {
     "data": {
      "image/png": "[encoded data removed]",
      "text/plain": [
       "<matplotlib.figure.Figure at 0x11aef40f0>"
      ]
     },
     "metadata": {},
     "output_type": "display_data"
    },
    {
     "data": {
      "image/png": "[encoded data removed]",
      "text/plain": [
       "<matplotlib.figure.Figure at 0x11b732978>"
      ]
     },
     "metadata": {},
     "output_type": "display_data"
    },
    {
     "data": {
      "image/png": "[encoded data removed]",
      "text/plain": [
       "<matplotlib.figure.Figure at 0x11a883ba8>"
      ]
     },
     "metadata": {},
     "output_type": "display_data"
    }
   ],
   "source": [
    "#Studentized Residuals vs. Index\n",
    "n = len(mlr_model3.resid)\n",
    "index = np.linspace(1,n,n)\n",
    "plt.figure()\n",
    "plt.scatter(x = index, y = mlr_model3.resid, color = \"black\")\n",
    "plt.title(\"Studentized Residuals vs. Index\")\n",
    "plt.xlabel(\"Index\")\n",
    "plt.ylabel(\"Studentized Residuals\")\n",
    "plt.hlines(y = 0, xmin = 0, xmax = n+1, color = \"red\", linewidth = 2)\n",
    "plt.xlim(0,n+1)\n",
    "\n",
    "#Studentized Residuals vs. Fitted Values\n",
    "plt.figure()\n",
    "plt.scatter(x = mlr_model3.fittedvalues, y = mlr_model3.resid, color = \"black\")\n",
    "plt.title(\"Studentized Residuals vs. Fitted Values\")\n",
    "plt.xlabel(\"Fitted Values\")\n",
    "plt.ylabel(\"Studentized Residuals\")\n",
    "plt.hlines(y = 0, xmin = np.min(mlr_model3.fittedvalues), xmax = np.max(mlr_model3.fittedvalues), color = \"red\", linewidth = 2)\n",
    "plt.xlim(np.min(mlr_model3.fittedvalues), np.max(mlr_model3.fittedvalues))\n",
    "\n",
    "#Histogram\n",
    "plt.figure()\n",
    "plt.hist(mlr_model3.resid, edgecolor='black', color = \"white\")\n",
    "plt.title(\"Histogram of Studentized Residuals\")\n",
    "plt.xlabel(\"Studentized Residuals\")\n",
    "plt.ylabel(\"Frequency\")\n",
    "\n",
    "#QQplot\n",
    "sm.qqplot(mlr_model3.resid, stats.norm, fit = True, line = '45')\n",
    "plt.title(\"QQplot of Studentized Residuals\")"
   ]
  },
  {
   "cell_type": "markdown",
   "metadata": {},
   "source": [
    "Studentized Residuals vs. Index plot: There are no patterns or non-randomness that show that the residuals are independent of one another.\n",
    "\n",
    "Studentized Residuals vs. Fitted Values plot: As the fitted values increase, there is a small increase in variation showing that the residuals do NOT have a constant variance.\n",
    "\n",
    "Histogram & QQ-plot: Plots show that the residuals are right-skewed. Therefore, they are NOT normally distributed."
   ]
  },
  {
   "cell_type": "markdown",
   "metadata": {},
   "source": [
    "(i) Suppose that any one of the residual assumptions is not satisfied. Indicate, from\n",
    "the list below, which inferences would no longer be valid.\n",
    "* Parameter estimates (i.e., $\\hat{𝛽_{0}}$, $\\hat{𝛽_{1}}$,…, $\\hat{𝛽_{p}}$ and $\\hat{𝜎_{1}}$).\n",
    "* Hypothesis tests (i.e., ${H_{0}}$: ${𝛽_{j}}$ = 0 vs. ${H_{A}}$: ${𝛽_{j}}$ ≠ 0).\n",
    "* Confidence intervals (i.e., for ${𝛽_{0}}$,${𝛽_{1}}$,…,${𝛽_{p}}$ or ${𝜇_{0}}$).\n",
    "* Prediction intervals for ${y_{0}}$."
   ]
  },
  {
   "cell_type": "markdown",
   "metadata": {},
   "source": [
    "If error assumptions are invalid this would impact all but the validity of the parameter estimates since they are derived from the LSEstimates so no distibutional assumptions are being made unlike the others (hypothesis tests, CI and PI)."
   ]
  }
 ],
 "metadata": {
  "kernelspec": {
   "display_name": "Python 3",
   "language": "python",
   "name": "python3"
  },
  "language_info": {
   "codemirror_mode": {
    "name": "ipython",
    "version": 3
   },
   "file_extension": ".py",
   "mimetype": "text/x-python",
   "name": "python",
   "nbconvert_exporter": "python",
   "pygments_lexer": "ipython3",
   "version": "3.6.1"
  }
 },
 "nbformat": 4,
 "nbformat_minor": 2
}
