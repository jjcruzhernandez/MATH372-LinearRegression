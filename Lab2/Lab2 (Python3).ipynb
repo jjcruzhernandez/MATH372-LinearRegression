{
 "cells": [
  {
   "cell_type": "markdown",
   "metadata": {},
   "source": [
    "# Lab 2: SLR with Bike Share Data (Python3)"
   ]
  },
  {
   "cell_type": "code",
   "execution_count": 7,
   "metadata": {
    "collapsed": true
   },
   "outputs": [],
   "source": [
    "%matplotlib inline\n",
    "import os\n",
    "import pandas as pd\n",
    "import matplotlib.pyplot as plt\n",
    "import numpy as np\n",
    "import statsmodels.formula.api as smf\n",
    "from statsmodels.stats.outliers_influence import summary_table\n",
    "from statsmodels.sandbox.regression.predstd import wls_prediction_std as pi"
   ]
  },
  {
   "cell_type": "code",
   "execution_count": 8,
   "metadata": {
    "collapsed": true
   },
   "outputs": [],
   "source": [
    "data = pd.read_csv('bike_share.csv')\n",
    "countData = data['count']\n",
    "tempData = data['temp']\n",
    "humidityData = data['humidity']\n",
    "windspeedData = data['windspeed']"
   ]
  },
  {
   "cell_type": "code",
   "execution_count": 9,
   "metadata": {
    "collapsed": true
   },
   "outputs": [],
   "source": [
    "def smlModel(model, data):\n",
    "    return(smf.ols(model, data=data).fit())\n",
    "\n",
    "def scatterPlot(x, y, model, xlab):\n",
    "    plt.scatter(x, y, c = \"black\");\n",
    "    plt.xlabel(xlab);\n",
    "    plt.ylabel(\"# Bike Rentals\");\n",
    "    fitted_line, = plt.plot(x, model.fittedvalues, '-', color = \"red\", linewidth = 2, label = \"Fitted Values\");\n",
    "    ignore1, intervals, ignore2 = summary_table(model)\n",
    "    ciLow = intervals[:,4]\n",
    "    ciHigh = intervals[:,5]\n",
    "    piLow = intervals[:,6]\n",
    "    piHigh = intervals[:,7]\n",
    "    lowCI_line, = plt.plot(x, ciLow, '--', color = \"blue\", linewidth = 1, label = \"95% CI\");\n",
    "    plt.plot(x, ciHigh, '--', color = \"blue\", linewidth = 1);\n",
    "    lowPI_line, = plt.plot(x, piLow, '--', color = \"purple\", linewidth = 1, label = \"95% PI\");\n",
    "    plt.plot(x, piHigh, '--', color = \"purple\", linewidth = 1);\n",
    "    legend = plt.legend(handles = [fitted_line, lowCI_line, lowPI_line], loc = 2)"
   ]
  },
  {
   "cell_type": "markdown",
   "metadata": {},
   "source": [
    "a) Fit a simple linear regression model relating count to temp. You may use\n",
    "automated functions to do this. Interpret the regression coefficient ${𝛽_{1}}$, and using\n",
    "the output from these functions, formally test ${H_{0}}$ : ${𝛽_{1}}$ = 0 versus ${H_{A}}$ : ${𝛽_{1}}$ ≠ 0. Thus,\n",
    "draw a conclusion regarding whether bike rentals appear to be significantly\n",
    "influenced by the outside temperature."
   ]
  },
  {
   "cell_type": "code",
   "execution_count": 10,
   "metadata": {},
   "outputs": [
    {
     "data": {
      "text/html": [
       "<table class=\"simpletable\">\n",
       "<caption>OLS Regression Results</caption>\n",
       "<tr>\n",
       "  <th>Dep. Variable:</th>          <td>count</td>      <th>  R-squared:         </th> <td>   0.156</td> \n",
       "</tr>\n",
       "<tr>\n",
       "  <th>Model:</th>                   <td>OLS</td>       <th>  Adj. R-squared:    </th> <td>   0.156</td> \n",
       "</tr>\n",
       "<tr>\n",
       "  <th>Method:</th>             <td>Least Squares</td>  <th>  F-statistic:       </th> <td>   2006.</td> \n",
       "</tr>\n",
       "<tr>\n",
       "  <th>Date:</th>             <td>Wed, 26 Sep 2018</td> <th>  Prob (F-statistic):</th>  <td>  0.00</td>  \n",
       "</tr>\n",
       "<tr>\n",
       "  <th>Time:</th>                 <td>09:39:12</td>     <th>  Log-Likelihood:    </th> <td> -71125.</td> \n",
       "</tr>\n",
       "<tr>\n",
       "  <th>No. Observations:</th>      <td> 10886</td>      <th>  AIC:               </th> <td>1.423e+05</td>\n",
       "</tr>\n",
       "<tr>\n",
       "  <th>Df Residuals:</th>          <td> 10884</td>      <th>  BIC:               </th> <td>1.423e+05</td>\n",
       "</tr>\n",
       "<tr>\n",
       "  <th>Df Model:</th>              <td>     1</td>      <th>                     </th>     <td> </td>    \n",
       "</tr>\n",
       "<tr>\n",
       "  <th>Covariance Type:</th>      <td>nonrobust</td>    <th>                     </th>     <td> </td>    \n",
       "</tr>\n",
       "</table>\n",
       "<table class=\"simpletable\">\n",
       "<tr>\n",
       "      <td></td>         <th>coef</th>     <th>std err</th>      <th>t</th>      <th>P>|t|</th>  <th>[0.025</th>    <th>0.975]</th>  \n",
       "</tr>\n",
       "<tr>\n",
       "  <th>Intercept</th> <td> -156.9856</td> <td>    7.945</td> <td>  -19.759</td> <td> 0.000</td> <td> -172.560</td> <td> -141.412</td>\n",
       "</tr>\n",
       "<tr>\n",
       "  <th>temp</th>      <td>    5.0947</td> <td>    0.114</td> <td>   44.783</td> <td> 0.000</td> <td>    4.872</td> <td>    5.318</td>\n",
       "</tr>\n",
       "</table>\n",
       "<table class=\"simpletable\">\n",
       "<tr>\n",
       "  <th>Omnibus:</th>       <td>1871.687</td> <th>  Durbin-Watson:     </th> <td>   0.369</td>\n",
       "</tr>\n",
       "<tr>\n",
       "  <th>Prob(Omnibus):</th>  <td> 0.000</td>  <th>  Jarque-Bera (JB):  </th> <td>3221.966</td>\n",
       "</tr>\n",
       "<tr>\n",
       "  <th>Skew:</th>           <td> 1.123</td>  <th>  Prob(JB):          </th> <td>    0.00</td>\n",
       "</tr>\n",
       "<tr>\n",
       "  <th>Kurtosis:</th>       <td> 4.434</td>  <th>  Cond. No.          </th> <td>    348.</td>\n",
       "</tr>\n",
       "</table>"
      ],
      "text/plain": [
       "<class 'statsmodels.iolib.summary.Summary'>\n",
       "\"\"\"\n",
       "                            OLS Regression Results                            \n",
       "==============================================================================\n",
       "Dep. Variable:                  count   R-squared:                       0.156\n",
       "Model:                            OLS   Adj. R-squared:                  0.156\n",
       "Method:                 Least Squares   F-statistic:                     2006.\n",
       "Date:                Wed, 26 Sep 2018   Prob (F-statistic):               0.00\n",
       "Time:                        09:39:12   Log-Likelihood:                -71125.\n",
       "No. Observations:               10886   AIC:                         1.423e+05\n",
       "Df Residuals:                   10884   BIC:                         1.423e+05\n",
       "Df Model:                           1                                         \n",
       "Covariance Type:            nonrobust                                         \n",
       "==============================================================================\n",
       "                 coef    std err          t      P>|t|      [0.025      0.975]\n",
       "------------------------------------------------------------------------------\n",
       "Intercept   -156.9856      7.945    -19.759      0.000    -172.560    -141.412\n",
       "temp           5.0947      0.114     44.783      0.000       4.872       5.318\n",
       "==============================================================================\n",
       "Omnibus:                     1871.687   Durbin-Watson:                   0.369\n",
       "Prob(Omnibus):                  0.000   Jarque-Bera (JB):             3221.966\n",
       "Skew:                           1.123   Prob(JB):                         0.00\n",
       "Kurtosis:                       4.434   Cond. No.                         348.\n",
       "==============================================================================\n",
       "\n",
       "Warnings:\n",
       "[1] Standard Errors assume that the covariance matrix of the errors is correctly specified.\n",
       "\"\"\""
      ]
     },
     "execution_count": 10,
     "metadata": {},
     "output_type": "execute_result"
    }
   ],
   "source": [
    "smlModel_CvT = smlModel('count ~ temp', data)\n",
    "smlModel_CvT.summary()"
   ]
  },
  {
   "cell_type": "markdown",
   "metadata": {},
   "source": [
    "$\\hat{𝛽_{1}}$ = 5.0947\n",
    "\n",
    "p-value = 0.000\n",
    "\n",
    "When one degree (F) increases in temperature then the # of hourly bike rental is expected to increase by , $\\hat{𝛽_{1}}$, 5.0947.\n",
    "\n",
    "The p-value for the ${H_{0}}$ : ${𝛽_{1}}$ = 0 versus ${H_{A}}$ : ${𝛽_{1}}$ ≠ 0 is extremley smaller than a typical significance level. This implies that we should reject the null hypothesis and conclude that hourly bike rentals ARE significatly influenced by temperature."
   ]
  },
  {
   "cell_type": "markdown",
   "metadata": {},
   "source": [
    "b) Fit a simple linear regression model relating count to humidity. You may use\n",
    "automated functions to do this. Interpret the regression coefficient 𝛽', and using\n",
    "the output from these functions, formally test ${H_{0}}$ : ${𝛽_{1}}$ = 0 versus ${H_{A}}$ : ${𝛽_{1}}$ ≠ 0. Thus,\n",
    "draw a conclusion regarding whether bike rentals appear to be significantly\n",
    "influenced by the relative humidity."
   ]
  },
  {
   "cell_type": "code",
   "execution_count": 11,
   "metadata": {},
   "outputs": [
    {
     "data": {
      "text/html": [
       "<table class=\"simpletable\">\n",
       "<caption>OLS Regression Results</caption>\n",
       "<tr>\n",
       "  <th>Dep. Variable:</th>          <td>count</td>      <th>  R-squared:         </th> <td>   0.101</td> \n",
       "</tr>\n",
       "<tr>\n",
       "  <th>Model:</th>                   <td>OLS</td>       <th>  Adj. R-squared:    </th> <td>   0.101</td> \n",
       "</tr>\n",
       "<tr>\n",
       "  <th>Method:</th>             <td>Least Squares</td>  <th>  F-statistic:       </th> <td>   1219.</td> \n",
       "</tr>\n",
       "<tr>\n",
       "  <th>Date:</th>             <td>Wed, 26 Sep 2018</td> <th>  Prob (F-statistic):</th> <td>2.92e-253</td>\n",
       "</tr>\n",
       "<tr>\n",
       "  <th>Time:</th>                 <td>09:39:12</td>     <th>  Log-Likelihood:    </th> <td> -71468.</td> \n",
       "</tr>\n",
       "<tr>\n",
       "  <th>No. Observations:</th>      <td> 10886</td>      <th>  AIC:               </th> <td>1.429e+05</td>\n",
       "</tr>\n",
       "<tr>\n",
       "  <th>Df Residuals:</th>          <td> 10884</td>      <th>  BIC:               </th> <td>1.430e+05</td>\n",
       "</tr>\n",
       "<tr>\n",
       "  <th>Df Model:</th>              <td>     1</td>      <th>                     </th>     <td> </td>    \n",
       "</tr>\n",
       "<tr>\n",
       "  <th>Covariance Type:</th>      <td>nonrobust</td>    <th>                     </th>     <td> </td>    \n",
       "</tr>\n",
       "</table>\n",
       "<table class=\"simpletable\">\n",
       "<tr>\n",
       "      <td></td>         <th>coef</th>     <th>std err</th>      <th>t</th>      <th>P>|t|</th>  <th>[0.025</th>    <th>0.975]</th>  \n",
       "</tr>\n",
       "<tr>\n",
       "  <th>Intercept</th> <td>  376.4456</td> <td>    5.545</td> <td>   67.890</td> <td> 0.000</td> <td>  365.577</td> <td>  387.315</td>\n",
       "</tr>\n",
       "<tr>\n",
       "  <th>humidity</th>  <td>   -2.9873</td> <td>    0.086</td> <td>  -34.915</td> <td> 0.000</td> <td>   -3.155</td> <td>   -2.820</td>\n",
       "</tr>\n",
       "</table>\n",
       "<table class=\"simpletable\">\n",
       "<tr>\n",
       "  <th>Omnibus:</th>       <td>2068.515</td> <th>  Durbin-Watson:     </th> <td>   0.351</td>\n",
       "</tr>\n",
       "<tr>\n",
       "  <th>Prob(Omnibus):</th>  <td> 0.000</td>  <th>  Jarque-Bera (JB):  </th> <td>3709.739</td>\n",
       "</tr>\n",
       "<tr>\n",
       "  <th>Skew:</th>           <td> 1.210</td>  <th>  Prob(JB):          </th> <td>    0.00</td>\n",
       "</tr>\n",
       "<tr>\n",
       "  <th>Kurtosis:</th>       <td> 4.525</td>  <th>  Cond. No.          </th> <td>    218.</td>\n",
       "</tr>\n",
       "</table>"
      ],
      "text/plain": [
       "<class 'statsmodels.iolib.summary.Summary'>\n",
       "\"\"\"\n",
       "                            OLS Regression Results                            \n",
       "==============================================================================\n",
       "Dep. Variable:                  count   R-squared:                       0.101\n",
       "Model:                            OLS   Adj. R-squared:                  0.101\n",
       "Method:                 Least Squares   F-statistic:                     1219.\n",
       "Date:                Wed, 26 Sep 2018   Prob (F-statistic):          2.92e-253\n",
       "Time:                        09:39:12   Log-Likelihood:                -71468.\n",
       "No. Observations:               10886   AIC:                         1.429e+05\n",
       "Df Residuals:                   10884   BIC:                         1.430e+05\n",
       "Df Model:                           1                                         \n",
       "Covariance Type:            nonrobust                                         \n",
       "==============================================================================\n",
       "                 coef    std err          t      P>|t|      [0.025      0.975]\n",
       "------------------------------------------------------------------------------\n",
       "Intercept    376.4456      5.545     67.890      0.000     365.577     387.315\n",
       "humidity      -2.9873      0.086    -34.915      0.000      -3.155      -2.820\n",
       "==============================================================================\n",
       "Omnibus:                     2068.515   Durbin-Watson:                   0.351\n",
       "Prob(Omnibus):                  0.000   Jarque-Bera (JB):             3709.739\n",
       "Skew:                           1.210   Prob(JB):                         0.00\n",
       "Kurtosis:                       4.525   Cond. No.                         218.\n",
       "==============================================================================\n",
       "\n",
       "Warnings:\n",
       "[1] Standard Errors assume that the covariance matrix of the errors is correctly specified.\n",
       "\"\"\""
      ]
     },
     "execution_count": 11,
     "metadata": {},
     "output_type": "execute_result"
    }
   ],
   "source": [
    "smlModel_CvH = smlModel('count ~ humidity', data)\n",
    "smlModel_CvH.summary()"
   ]
  },
  {
   "cell_type": "markdown",
   "metadata": {},
   "source": [
    "$\\hat{𝛽_{1}}$ = -2.9873\n",
    "\n",
    "p-value = 0.000\n",
    "\n",
    "For a 1% increase in humidity then the # of hourly bike rental is expected to decrease by , $\\hat{𝛽_{1}}$, 2.9873.\n",
    "\n",
    "The p-value for the ${H_{0}}$ : ${𝛽_{1}}$ = 0 versus ${H_{A}}$ : ${𝛽_{1}}$ ≠ 0 is extremley smaller than a typical significance level. This implies that we should reject the null hypothesis and conclude that hourly bike rentals ARE significatly influenced by humidity."
   ]
  },
  {
   "cell_type": "markdown",
   "metadata": {},
   "source": [
    "c) Fit a simple linear regression model relating count to windspeed. You may use\n",
    "automated functions to do this. Interpret the regression coefficient 𝛽', and using\n",
    "the output from these functions, formally test ${H_{0}}$ : ${𝛽_{1}}$ = 0 versus ${H_{A}}$ : ${𝛽_{1}}$ ≠ 0. Thus,\n",
    "draw a conclusion regarding whether bike rentals appear to be significantly\n",
    "influenced by wind speed."
   ]
  },
  {
   "cell_type": "code",
   "execution_count": 12,
   "metadata": {},
   "outputs": [
    {
     "data": {
      "text/html": [
       "<table class=\"simpletable\">\n",
       "<caption>OLS Regression Results</caption>\n",
       "<tr>\n",
       "  <th>Dep. Variable:</th>          <td>count</td>      <th>  R-squared:         </th> <td>   0.010</td> \n",
       "</tr>\n",
       "<tr>\n",
       "  <th>Model:</th>                   <td>OLS</td>       <th>  Adj. R-squared:    </th> <td>   0.010</td> \n",
       "</tr>\n",
       "<tr>\n",
       "  <th>Method:</th>             <td>Least Squares</td>  <th>  F-statistic:       </th> <td>   113.0</td> \n",
       "</tr>\n",
       "<tr>\n",
       "  <th>Date:</th>             <td>Wed, 26 Sep 2018</td> <th>  Prob (F-statistic):</th> <td>2.90e-26</td> \n",
       "</tr>\n",
       "<tr>\n",
       "  <th>Time:</th>                 <td>09:39:12</td>     <th>  Log-Likelihood:    </th> <td> -71989.</td> \n",
       "</tr>\n",
       "<tr>\n",
       "  <th>No. Observations:</th>      <td> 10886</td>      <th>  AIC:               </th> <td>1.440e+05</td>\n",
       "</tr>\n",
       "<tr>\n",
       "  <th>Df Residuals:</th>          <td> 10884</td>      <th>  BIC:               </th> <td>1.440e+05</td>\n",
       "</tr>\n",
       "<tr>\n",
       "  <th>Df Model:</th>              <td>     1</td>      <th>                     </th>     <td> </td>    \n",
       "</tr>\n",
       "<tr>\n",
       "  <th>Covariance Type:</th>      <td>nonrobust</td>    <th>                     </th>     <td> </td>    \n",
       "</tr>\n",
       "</table>\n",
       "<table class=\"simpletable\">\n",
       "<tr>\n",
       "      <td></td>         <th>coef</th>     <th>std err</th>      <th>t</th>      <th>P>|t|</th>  <th>[0.025</th>    <th>0.975]</th>  \n",
       "</tr>\n",
       "<tr>\n",
       "  <th>Intercept</th> <td>  162.7876</td> <td>    3.212</td> <td>   50.682</td> <td> 0.000</td> <td>  156.492</td> <td>  169.084</td>\n",
       "</tr>\n",
       "<tr>\n",
       "  <th>windspeed</th> <td>    2.2491</td> <td>    0.212</td> <td>   10.630</td> <td> 0.000</td> <td>    1.834</td> <td>    2.664</td>\n",
       "</tr>\n",
       "</table>\n",
       "<table class=\"simpletable\">\n",
       "<tr>\n",
       "  <th>Omnibus:</th>       <td>2086.612</td> <th>  Durbin-Watson:     </th> <td>   0.322</td>\n",
       "</tr>\n",
       "<tr>\n",
       "  <th>Prob(Omnibus):</th>  <td> 0.000</td>  <th>  Jarque-Bera (JB):  </th> <td>3633.799</td>\n",
       "</tr>\n",
       "<tr>\n",
       "  <th>Skew:</th>           <td> 1.247</td>  <th>  Prob(JB):          </th> <td>    0.00</td>\n",
       "</tr>\n",
       "<tr>\n",
       "  <th>Kurtosis:</th>       <td> 4.338</td>  <th>  Cond. No.          </th> <td>    28.3</td>\n",
       "</tr>\n",
       "</table>"
      ],
      "text/plain": [
       "<class 'statsmodels.iolib.summary.Summary'>\n",
       "\"\"\"\n",
       "                            OLS Regression Results                            \n",
       "==============================================================================\n",
       "Dep. Variable:                  count   R-squared:                       0.010\n",
       "Model:                            OLS   Adj. R-squared:                  0.010\n",
       "Method:                 Least Squares   F-statistic:                     113.0\n",
       "Date:                Wed, 26 Sep 2018   Prob (F-statistic):           2.90e-26\n",
       "Time:                        09:39:12   Log-Likelihood:                -71989.\n",
       "No. Observations:               10886   AIC:                         1.440e+05\n",
       "Df Residuals:                   10884   BIC:                         1.440e+05\n",
       "Df Model:                           1                                         \n",
       "Covariance Type:            nonrobust                                         \n",
       "==============================================================================\n",
       "                 coef    std err          t      P>|t|      [0.025      0.975]\n",
       "------------------------------------------------------------------------------\n",
       "Intercept    162.7876      3.212     50.682      0.000     156.492     169.084\n",
       "windspeed      2.2491      0.212     10.630      0.000       1.834       2.664\n",
       "==============================================================================\n",
       "Omnibus:                     2086.612   Durbin-Watson:                   0.322\n",
       "Prob(Omnibus):                  0.000   Jarque-Bera (JB):             3633.799\n",
       "Skew:                           1.247   Prob(JB):                         0.00\n",
       "Kurtosis:                       4.338   Cond. No.                         28.3\n",
       "==============================================================================\n",
       "\n",
       "Warnings:\n",
       "[1] Standard Errors assume that the covariance matrix of the errors is correctly specified.\n",
       "\"\"\""
      ]
     },
     "execution_count": 12,
     "metadata": {},
     "output_type": "execute_result"
    }
   ],
   "source": [
    "smlModel_CvW = smlModel('count ~ windspeed', data)\n",
    "smlModel_CvW.summary()"
   ]
  },
  {
   "cell_type": "markdown",
   "metadata": {},
   "source": [
    "$\\hat{𝛽_{1}}$ = 2.2491\n",
    "\n",
    "p-value = 0.000\n",
    "\n",
    "For an increase of 1 mph in windspeed then the # of hourly bike rental is expected to increase by , $\\hat{𝛽_{1}}$, 2.2491.\n",
    "\n",
    "The p-value for the ${H_{0}}$ : ${𝛽_{1}}$ = 0 versus ${H_{A}}$ : ${𝛽_{1}}$ ≠ 0 is extremley smaller than a typical significance level. This implies that we should reject the null hypothesis and conclude that hourly bike rentals ARE significatly influenced by windspeed."
   ]
  },
  {
   "cell_type": "markdown",
   "metadata": {},
   "source": [
    "d) Construct three scatter plots: one of count vs. temp, one of count vs.\n",
    "humidity and one of count vs. windspeed. On each of these, plot the least\n",
    "squares line-of-best-fit, the 95% confidence interval for this line and the 95%\n",
    "prediction interval for this line. Be sure to appropriately label all plots, axes and\n",
    "legends."
   ]
  },
  {
   "cell_type": "code",
   "execution_count": 13,
   "metadata": {},
   "outputs": [
    {
     "data": {
      "image/png": "[encoded data removed]",
      "text/plain": [
       "<matplotlib.figure.Figure at 0x120e30cc0>"
      ]
     },
     "metadata": {},
     "output_type": "display_data"
    }
   ],
   "source": [
    "#Count v Temp\n",
    "scatterPlot(tempData, countData, smlModel_CvT, \"Temp (F)\")"
   ]
  },
  {
   "cell_type": "code",
   "execution_count": 14,
   "metadata": {},
   "outputs": [
    {
     "data": {
      "image/png": "[encoded data removed]",
      "text/plain": [
       "<matplotlib.figure.Figure at 0x1298b5c50>"
      ]
     },
     "metadata": {},
     "output_type": "display_data"
    }
   ],
   "source": [
    "#Count v Humidity\n",
    "scatterPlot(humidityData, countData, smlModel_CvH, \"Relative Humidity (%)\")"
   ]
  },
  {
   "cell_type": "code",
   "execution_count": 15,
   "metadata": {},
   "outputs": [
    {
     "data": {
      "image/png": "[encoded data removed]",
      "text/plain": [
       "<matplotlib.figure.Figure at 0x12075c828>"
      ]
     },
     "metadata": {},
     "output_type": "display_data"
    }
   ],
   "source": [
    "#Count v Windspeed\n",
    "scatterPlot(windspeedData, countData, smlModel_CvW, \"Windspeed (mph)\")"
   ]
  },
  {
   "cell_type": "markdown",
   "metadata": {},
   "source": [
    "e) Using your results from part (d) predict the number of bike rentals in hours for\n",
    "which:\n",
    "* i. the outside temperature is 70 degrees Fahrenheit\n",
    "* ii. the wind speed is 10 miles per hour\n",
    "* iii. the relative humidity is 40%\n",
    "\n",
    "Be sure to accompany each point prediction with a 95% prediction interval.   "
   ]
  },
  {
   "cell_type": "code",
   "execution_count": 21,
   "metadata": {},
   "outputs": [
    {
     "name": "stdout",
     "output_type": "stream",
     "text": [
      "Temp:  [0    199.646512\n",
      "dtype: float64, array([-126.66870045]), array([525.96172448])]\n"
     ]
    }
   ],
   "source": [
    "#i. temp = 70 F\n",
    "tempPrediction = smlModel_CvT.predict({\"temp\": [70]})\n",
    "ignore, tempLow, tempHigh = pi(smlModel_CvT, exog = [1,70], weights = 1)\n",
    "print(\"Temp: \", [tempPrediction, tempLow, tempHigh])"
   ]
  },
  {
   "cell_type": "markdown",
   "metadata": {},
   "source": [
    "$\\hat{y}$ = -156.9856 + 5.0947(70)\n",
    "\n",
    "Predicited # of bike rental when temp is 70 degrees Fahrenheit is about 200, with a 95% PI of (-126.67, 525.97)"
   ]
  },
  {
   "cell_type": "code",
   "execution_count": 17,
   "metadata": {},
   "outputs": [
    {
     "name": "stdout",
     "output_type": "stream",
     "text": [
      "Windspeed:  [0    185.27813\n",
      "dtype: float64, array([-168.00327181]), array([538.55953082])]\n"
     ]
    }
   ],
   "source": [
    "#ii. windpseed = 10 mph\n",
    "windspeedPredition = smlModel_CvW.predict({\"windspeed\": [10]})\n",
    "ignore, windspeedLow, windspeedHigh = pi(smlModel_CvW, exog = [1,10], weights = 1)\n",
    "print(\"Windspeed: \", [windspeedPredition, windspeedLow, windspeedHigh])"
   ]
  },
  {
   "cell_type": "markdown",
   "metadata": {},
   "source": [
    "$\\hat{y}$ = 162.7876 + 2.2491(10)\n",
    "\n",
    "Predicited # of bike rental when windsped is 10 mph is about 185, with a 95% PI of (-168.00, 538.56)"
   ]
  },
  {
   "cell_type": "code",
   "execution_count": 18,
   "metadata": {},
   "outputs": [
    {
     "name": "stdout",
     "output_type": "stream",
     "text": [
      "Humidity:  [0    256.954865\n",
      "dtype: float64, array([-79.81519026]), array([593.72492064])]\n"
     ]
    }
   ],
   "source": [
    "#iii. humidity = 40\n",
    "humidityPredition = smlModel_CvH.predict({\"humidity\": [40]})\n",
    "ignore, humidityLow, humidHigh = pi(smlModel_CvH, exog = [1,40], weights = 1)\n",
    "print(\"Humidity: \", [humidityPredition, humidLow, humidHigh])"
   ]
  },
  {
   "cell_type": "markdown",
   "metadata": {},
   "source": [
    "$\\hat{y}$ = 376.4456 - 2.9873(40)\n",
    "\n",
    "Predicited # of bike rental when relative humidity is 40% is about 257, with a 95% PI of (-79.82, 593.73)"
   ]
  },
  {
   "cell_type": "markdown",
   "metadata": {},
   "source": [
    "f) Fit a linear regression model relating count to season using automated\n",
    "functions. You must make sure that these functions treat season as a categorical\n",
    "variable and not a numeric variable. In R this can be accomplished with:\n",
    "\n",
    "lm(count~ factor(season), data = bike) (R)\n",
    "\n",
    "or\n",
    "\n",
    "smf.ols('count ~ C(season)', data = bike).fit( ) (Python3)\n",
    "\n",
    "Carefully interpret each of the regression coefficients in this model. Using these\n",
    "coefficients, calculate the expected number of bike rentals in each season."
   ]
  },
  {
   "cell_type": "code",
   "execution_count": 19,
   "metadata": {},
   "outputs": [
    {
     "data": {
      "text/html": [
       "<table class=\"simpletable\">\n",
       "<caption>OLS Regression Results</caption>\n",
       "<tr>\n",
       "  <th>Dep. Variable:</th>          <td>count</td>      <th>  R-squared:         </th> <td>   0.061</td> \n",
       "</tr>\n",
       "<tr>\n",
       "  <th>Model:</th>                   <td>OLS</td>       <th>  Adj. R-squared:    </th> <td>   0.061</td> \n",
       "</tr>\n",
       "<tr>\n",
       "  <th>Method:</th>             <td>Least Squares</td>  <th>  F-statistic:       </th> <td>   236.9</td> \n",
       "</tr>\n",
       "<tr>\n",
       "  <th>Date:</th>             <td>Wed, 26 Sep 2018</td> <th>  Prob (F-statistic):</th> <td>6.16e-149</td>\n",
       "</tr>\n",
       "<tr>\n",
       "  <th>Time:</th>                 <td>09:39:20</td>     <th>  Log-Likelihood:    </th> <td> -71701.</td> \n",
       "</tr>\n",
       "<tr>\n",
       "  <th>No. Observations:</th>      <td> 10886</td>      <th>  AIC:               </th> <td>1.434e+05</td>\n",
       "</tr>\n",
       "<tr>\n",
       "  <th>Df Residuals:</th>          <td> 10882</td>      <th>  BIC:               </th> <td>1.434e+05</td>\n",
       "</tr>\n",
       "<tr>\n",
       "  <th>Df Model:</th>              <td>     3</td>      <th>                     </th>     <td> </td>    \n",
       "</tr>\n",
       "<tr>\n",
       "  <th>Covariance Type:</th>      <td>nonrobust</td>    <th>                     </th>     <td> </td>    \n",
       "</tr>\n",
       "</table>\n",
       "<table class=\"simpletable\">\n",
       "<tr>\n",
       "         <td></td>           <th>coef</th>     <th>std err</th>      <th>t</th>      <th>P>|t|</th>  <th>[0.025</th>    <th>0.975]</th>  \n",
       "</tr>\n",
       "<tr>\n",
       "  <th>Intercept</th>      <td>  116.3433</td> <td>    3.387</td> <td>   34.352</td> <td> 0.000</td> <td>  109.704</td> <td>  122.982</td>\n",
       "</tr>\n",
       "<tr>\n",
       "  <th>C(season)[T.2]</th> <td>   98.9081</td> <td>    4.769</td> <td>   20.740</td> <td> 0.000</td> <td>   89.560</td> <td>  108.256</td>\n",
       "</tr>\n",
       "<tr>\n",
       "  <th>C(season)[T.3]</th> <td>  118.0739</td> <td>    4.769</td> <td>   24.758</td> <td> 0.000</td> <td>  108.726</td> <td>  127.422</td>\n",
       "</tr>\n",
       "<tr>\n",
       "  <th>C(season)[T.4]</th> <td>   82.6450</td> <td>    4.769</td> <td>   17.331</td> <td> 0.000</td> <td>   73.298</td> <td>   91.992</td>\n",
       "</tr>\n",
       "</table>\n",
       "<table class=\"simpletable\">\n",
       "<tr>\n",
       "  <th>Omnibus:</th>       <td>1896.059</td> <th>  Durbin-Watson:     </th> <td>   0.337</td>\n",
       "</tr>\n",
       "<tr>\n",
       "  <th>Prob(Omnibus):</th>  <td> 0.000</td>  <th>  Jarque-Bera (JB):  </th> <td>3190.509</td>\n",
       "</tr>\n",
       "<tr>\n",
       "  <th>Skew:</th>           <td> 1.156</td>  <th>  Prob(JB):          </th> <td>    0.00</td>\n",
       "</tr>\n",
       "<tr>\n",
       "  <th>Kurtosis:</th>       <td> 4.299</td>  <th>  Cond. No.          </th> <td>    4.82</td>\n",
       "</tr>\n",
       "</table>"
      ],
      "text/plain": [
       "<class 'statsmodels.iolib.summary.Summary'>\n",
       "\"\"\"\n",
       "                            OLS Regression Results                            \n",
       "==============================================================================\n",
       "Dep. Variable:                  count   R-squared:                       0.061\n",
       "Model:                            OLS   Adj. R-squared:                  0.061\n",
       "Method:                 Least Squares   F-statistic:                     236.9\n",
       "Date:                Wed, 26 Sep 2018   Prob (F-statistic):          6.16e-149\n",
       "Time:                        09:39:20   Log-Likelihood:                -71701.\n",
       "No. Observations:               10886   AIC:                         1.434e+05\n",
       "Df Residuals:                   10882   BIC:                         1.434e+05\n",
       "Df Model:                           3                                         \n",
       "Covariance Type:            nonrobust                                         \n",
       "==================================================================================\n",
       "                     coef    std err          t      P>|t|      [0.025      0.975]\n",
       "----------------------------------------------------------------------------------\n",
       "Intercept        116.3433      3.387     34.352      0.000     109.704     122.982\n",
       "C(season)[T.2]    98.9081      4.769     20.740      0.000      89.560     108.256\n",
       "C(season)[T.3]   118.0739      4.769     24.758      0.000     108.726     127.422\n",
       "C(season)[T.4]    82.6450      4.769     17.331      0.000      73.298      91.992\n",
       "==============================================================================\n",
       "Omnibus:                     1896.059   Durbin-Watson:                   0.337\n",
       "Prob(Omnibus):                  0.000   Jarque-Bera (JB):             3190.509\n",
       "Skew:                           1.156   Prob(JB):                         0.00\n",
       "Kurtosis:                       4.299   Cond. No.                         4.82\n",
       "==============================================================================\n",
       "\n",
       "Warnings:\n",
       "[1] Standard Errors assume that the covariance matrix of the errors is correctly specified.\n",
       "\"\"\""
      ]
     },
     "execution_count": 19,
     "metadata": {},
     "output_type": "execute_result"
    }
   ],
   "source": [
    "seasonsModel = smf.ols('count ~ C(season)', data = data).fit()\n",
    "seasonsModel.summary()"
   ]
  },
  {
   "cell_type": "markdown",
   "metadata": {},
   "source": [
    "${𝛽_{0}}$ is the expected # of bike rentals when season = 1 (Spring)\n",
    "\n",
    "$\\hat{𝛽_{0}}$ is estimated to be 116.3433\n",
    "\n",
    "Spring: E[count|season=1] = ${𝛽_{0}}$ = 116.3433\n",
    "\n",
    "${𝛽_{1}}$ is the expected difference in bike rentals in season = 2 (Summer) relative to season = 1 (Spring)\n",
    "\n",
    "$\\hat{𝛽_{1}}$ is estimated to be 98.9081\n",
    "\n",
    "This means on average about 99 more bike rentals are expected to be rented out per hour in Summer relative to Spring.\n",
    "\n",
    "Summer: E[count|season=2] = ${𝛽_{0}} + {𝛽_{1}} $ = 116.3433 + 98.9081 = 215.2514\n",
    "\n",
    "${𝛽_{2}}$ is the expected difference in bike rentals in season = 3 (Fall) relative to season = 1 (Spring)\n",
    "\n",
    "$\\hat{𝛽_{2}}$ is estimated to be 118.0739\n",
    "\n",
    "This means that about 118 more bikes are expected to be rented out per hour in the Fall relative to Spring.\n",
    "\n",
    "Fall: E[count|season=3] = ${𝛽_{0}} + {𝛽_{2}} $ = 116.3433 + 118.0739 = 234.4172\n",
    "\n",
    "${𝛽_{3}}$ is the expected change in bike rentals in season = 4 (Winter) relative to season = 1 (Spring)\n",
    "\n",
    "$\\hat{𝛽_{3}}$ is the estimated to be 82.6450\n",
    "\n",
    "This means thatabout 83 more bikes are expected to be rented out per hour in the Winter relative to Spring.\n",
    "\n",
    "Winter: E[count|season=4] = ${𝛽_{0}} + {𝛽_{3}} $ = 116.3433 + 82.6450 = 198.9883"
   ]
  },
  {
   "cell_type": "markdown",
   "metadata": {},
   "source": [
    "g) Fit a linear regression model relating count to weather using automated\n",
    "functions. As in part (g) make sure that these functions treat weather as a\n",
    "categorical variable and not a numeric variable. Carefully interpret each of the\n",
    "regression coefficients in this model. Using these coefficients, calculate the\n",
    "expected number of bike rentals in each weather category."
   ]
  },
  {
   "cell_type": "code",
   "execution_count": 20,
   "metadata": {},
   "outputs": [
    {
     "data": {
      "text/html": [
       "<table class=\"simpletable\">\n",
       "<caption>OLS Regression Results</caption>\n",
       "<tr>\n",
       "  <th>Dep. Variable:</th>          <td>count</td>      <th>  R-squared:         </th> <td>   0.018</td> \n",
       "</tr>\n",
       "<tr>\n",
       "  <th>Model:</th>                   <td>OLS</td>       <th>  Adj. R-squared:    </th> <td>   0.017</td> \n",
       "</tr>\n",
       "<tr>\n",
       "  <th>Method:</th>             <td>Least Squares</td>  <th>  F-statistic:       </th> <td>   65.53</td> \n",
       "</tr>\n",
       "<tr>\n",
       "  <th>Date:</th>             <td>Wed, 26 Sep 2018</td> <th>  Prob (F-statistic):</th> <td>5.48e-42</td> \n",
       "</tr>\n",
       "<tr>\n",
       "  <th>Time:</th>                 <td>09:39:20</td>     <th>  Log-Likelihood:    </th> <td> -71948.</td> \n",
       "</tr>\n",
       "<tr>\n",
       "  <th>No. Observations:</th>      <td> 10886</td>      <th>  AIC:               </th> <td>1.439e+05</td>\n",
       "</tr>\n",
       "<tr>\n",
       "  <th>Df Residuals:</th>          <td> 10882</td>      <th>  BIC:               </th> <td>1.439e+05</td>\n",
       "</tr>\n",
       "<tr>\n",
       "  <th>Df Model:</th>              <td>     3</td>      <th>                     </th>     <td> </td>    \n",
       "</tr>\n",
       "<tr>\n",
       "  <th>Covariance Type:</th>      <td>nonrobust</td>    <th>                     </th>     <td> </td>    \n",
       "</tr>\n",
       "</table>\n",
       "<table class=\"simpletable\">\n",
       "<tr>\n",
       "         <td></td>            <th>coef</th>     <th>std err</th>      <th>t</th>      <th>P>|t|</th>  <th>[0.025</th>    <th>0.975]</th>  \n",
       "</tr>\n",
       "<tr>\n",
       "  <th>Intercept</th>       <td>  205.2368</td> <td>    2.117</td> <td>   96.936</td> <td> 0.000</td> <td>  201.087</td> <td>  209.387</td>\n",
       "</tr>\n",
       "<tr>\n",
       "  <th>C(weather)[T.2]</th> <td>  -26.2813</td> <td>    3.982</td> <td>   -6.599</td> <td> 0.000</td> <td>  -34.087</td> <td>  -18.475</td>\n",
       "</tr>\n",
       "<tr>\n",
       "  <th>C(weather)[T.3]</th> <td>  -86.3905</td> <td>    6.482</td> <td>  -13.328</td> <td> 0.000</td> <td>  -99.096</td> <td>  -73.685</td>\n",
       "</tr>\n",
       "<tr>\n",
       "  <th>C(weather)[T.4]</th> <td>  -41.2368</td> <td>  179.567</td> <td>   -0.230</td> <td> 0.818</td> <td> -393.221</td> <td>  310.748</td>\n",
       "</tr>\n",
       "</table>\n",
       "<table class=\"simpletable\">\n",
       "<tr>\n",
       "  <th>Omnibus:</th>       <td>2029.021</td> <th>  Durbin-Watson:     </th> <td>   0.329</td>\n",
       "</tr>\n",
       "<tr>\n",
       "  <th>Prob(Omnibus):</th>  <td> 0.000</td>  <th>  Jarque-Bera (JB):  </th> <td>3492.480</td>\n",
       "</tr>\n",
       "<tr>\n",
       "  <th>Skew:</th>           <td> 1.221</td>  <th>  Prob(JB):          </th> <td>    0.00</td>\n",
       "</tr>\n",
       "<tr>\n",
       "  <th>Kurtosis:</th>       <td> 4.319</td>  <th>  Cond. No.          </th> <td>    109.</td>\n",
       "</tr>\n",
       "</table>"
      ],
      "text/plain": [
       "<class 'statsmodels.iolib.summary.Summary'>\n",
       "\"\"\"\n",
       "                            OLS Regression Results                            \n",
       "==============================================================================\n",
       "Dep. Variable:                  count   R-squared:                       0.018\n",
       "Model:                            OLS   Adj. R-squared:                  0.017\n",
       "Method:                 Least Squares   F-statistic:                     65.53\n",
       "Date:                Wed, 26 Sep 2018   Prob (F-statistic):           5.48e-42\n",
       "Time:                        09:39:20   Log-Likelihood:                -71948.\n",
       "No. Observations:               10886   AIC:                         1.439e+05\n",
       "Df Residuals:                   10882   BIC:                         1.439e+05\n",
       "Df Model:                           3                                         \n",
       "Covariance Type:            nonrobust                                         \n",
       "===================================================================================\n",
       "                      coef    std err          t      P>|t|      [0.025      0.975]\n",
       "-----------------------------------------------------------------------------------\n",
       "Intercept         205.2368      2.117     96.936      0.000     201.087     209.387\n",
       "C(weather)[T.2]   -26.2813      3.982     -6.599      0.000     -34.087     -18.475\n",
       "C(weather)[T.3]   -86.3905      6.482    -13.328      0.000     -99.096     -73.685\n",
       "C(weather)[T.4]   -41.2368    179.567     -0.230      0.818    -393.221     310.748\n",
       "==============================================================================\n",
       "Omnibus:                     2029.021   Durbin-Watson:                   0.329\n",
       "Prob(Omnibus):                  0.000   Jarque-Bera (JB):             3492.480\n",
       "Skew:                           1.221   Prob(JB):                         0.00\n",
       "Kurtosis:                       4.319   Cond. No.                         109.\n",
       "==============================================================================\n",
       "\n",
       "Warnings:\n",
       "[1] Standard Errors assume that the covariance matrix of the errors is correctly specified.\n",
       "\"\"\""
      ]
     },
     "execution_count": 20,
     "metadata": {},
     "output_type": "execute_result"
    }
   ],
   "source": [
    "seasonsModel = smf.ols('count ~ C(weather)', data = data).fit()\n",
    "seasonsModel.summary()"
   ]
  },
  {
   "cell_type": "markdown",
   "metadata": {
    "collapsed": true
   },
   "source": [
    "${𝛽_{0}}$ is the expected # of bike rentals when weather = 1 (Nice)\n",
    "\n",
    "$\\hat{𝛽_{0}}$ is estimated to be 205.2368\n",
    "\n",
    "Nice: E[count|weather=1] = ${𝛽_{0}}$ = 205.2368\n",
    "\n",
    "${𝛽_{1}}$ is the expected difference in bike rentals in weather = 2 (Cloudy) relative to weather = 1 (Nice)\n",
    "\n",
    "$\\hat{𝛽_{1}}$ is estimated to be -26.2813\n",
    "\n",
    "This means on average about 26 fewer bike rentals are expected to be rented out per hour in Cloudy relative to Nice weather.\n",
    "\n",
    "Cloudy: E[count|weather=2] = ${𝛽_{0}} + {𝛽_{1}} $ = 205.2368 - 26.2813 = 178.9555\n",
    "\n",
    "${𝛽_{2}}$ is the expected difference in bike rentals in weather = 3 (Rainy) relative to weather = 1 (Nice)\n",
    "\n",
    "$\\hat{𝛽_{2}}$ is estimated to be -86.3905\n",
    "\n",
    "This means that about 86 fewer bikes are expected to be rented out per hour in the Rainy relative to Nice weather.\n",
    "\n",
    "Rainy: E[count|weather=3] = ${𝛽_{0}} + {𝛽_{2}} $ = 205.2368 - 86.3905 = 118.8463\n",
    "\n",
    "${𝛽_{3}}$ is the expected change in bike rentals in season = 4 (Stormy) relative to season = 1 (Nice)\n",
    "\n",
    "$\\hat{𝛽_{3}}$ is the estimated to be -41.2368\n",
    "\n",
    "This means thatabout 41 fewer bikes are expected to be rented out per hour in the Stormy relative to Nice weather.\n",
    "\n",
    "Stormy: E[count|weather=4] = ${𝛽_{0}} + {𝛽_{3}} $ = 205.2368 - 41.2368 = 164"
   ]
  },
  {
   "cell_type": "code",
   "execution_count": null,
   "metadata": {
    "collapsed": true
   },
   "outputs": [],
   "source": []
  }
 ],
 "metadata": {
  "kernelspec": {
   "display_name": "Python 3",
   "language": "python",
   "name": "python3"
  },
  "language_info": {
   "codemirror_mode": {
    "name": "ipython",
    "version": 3
   },
   "file_extension": ".py",
   "mimetype": "text/x-python",
   "name": "python",
   "nbconvert_exporter": "python",
   "pygments_lexer": "ipython3",
   "version": "3.6.1"
  }
 },
 "nbformat": 4,
 "nbformat_minor": 2
}
