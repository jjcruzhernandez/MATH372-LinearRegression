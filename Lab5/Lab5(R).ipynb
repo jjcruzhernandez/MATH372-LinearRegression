{
 "cells": [
  {
   "cell_type": "markdown",
   "metadata": {},
   "source": [
    "# Lab 5: Hitters (R)"
   ]
  },
  {
   "cell_type": "markdown",
   "metadata": {},
   "source": [
    "In the computational section of this Lab you will consider the baseball dataset found in the file hitters.csv. This dataset records the salary of 𝑛 = 263 Major League Baseball players during the 1987 season as well as 𝑞 = 19 statistics associated with the performance of each player during the previous season. Specifically, the dataset contains observations from the following variables:\n",
    "* AtBat: Number of times at bat in 1986\n",
    "* Hits: Number of hits in 1986\n",
    "* HmRun: Number of home runs in 1986\n",
    "* Runs: Number of runs in 1986\n",
    "* RBI: Number of runs batted in in 1986\n",
    "* Walks: Number of walks in 1986\n",
    "* Years: Number of years in the major leagues\n",
    "* CAtBat: Number of times at bat during his career\n",
    "* CHits: Number of hits during his career\n",
    "* CHmRun: Number of home runs during his career\n",
    "* CRuns: Number of runs during his career\n",
    "* CRBI: Number of runs batted in during his career\n",
    "* CWalks: Number of walks during his career\n",
    "* League: A categorical variable with levels A (for American) and N (for National) indicating the player’s league at the end of 1986\n",
    "* Division: A factor with levels E (for East) and W (for West) indicating the player’s division at the end of 1986\n",
    "* PutOuts: Number of put outs in 1986\n",
    "* Assists: Number of assists in 1986\n",
    "* Errors: Number of errors in 1986\n",
    "* Salary: 1987 annual salary on opening day in thousands of dollars\n",
    "* NewLeague: A factor with levels A and N indicating the player’s league at the beginning of 1987"
   ]
  },
  {
   "cell_type": "code",
   "execution_count": 35,
   "metadata": {},
   "outputs": [
    {
     "name": "stderr",
     "output_type": "stream",
     "text": [
      "\n",
      "Attaching package: ‘boot’\n",
      "\n",
      "The following object is masked from ‘package:car’:\n",
      "\n",
      "    logit\n",
      "\n"
     ]
    }
   ],
   "source": [
    "library(car)\n",
    "library(leaps)\n",
    "library(MASS)\n",
    "library(boot, quietly = T)\n",
    "data <- read.csv(file = \"hitters.csv\", header = T)"
   ]
  },
  {
   "cell_type": "markdown",
   "metadata": {},
   "source": [
    "(a) Calculate the variance inflation factor (VIF) for each of the explanatory variables.Comment on whether multicollinearity appears to be an issue. If it is, identify the three explanatory variables that are most seriously affected by the issue."
   ]
  },
  {
   "cell_type": "code",
   "execution_count": 13,
   "metadata": {
    "scrolled": true
   },
   "outputs": [
    {
     "data": {
      "text/html": [
       "<dl class=dl-horizontal>\n",
       "\t<dt>Division</dt>\n",
       "\t\t<dd>1.07539750070722</dd>\n",
       "\t<dt>PutOuts</dt>\n",
       "\t\t<dd>1.23631696225219</dd>\n",
       "\t<dt>Errors</dt>\n",
       "\t\t<dd>2.2145434666868</dd>\n",
       "\t<dt>Assists</dt>\n",
       "\t\t<dd>2.70934093675956</dd>\n",
       "\t<dt>NewLeague</dt>\n",
       "\t\t<dd>4.09906344956512</dd>\n",
       "\t<dt>League</dt>\n",
       "\t\t<dd>4.13411529083501</dd>\n",
       "\t<dt>Walks</dt>\n",
       "\t\t<dd>4.14871197167351</dd>\n",
       "\t<dt>HmRun</dt>\n",
       "\t\t<dd>7.75866785484265</dd>\n",
       "\t<dt>Years</dt>\n",
       "\t\t<dd>9.31327990233624</dd>\n",
       "\t<dt>RBI</dt>\n",
       "\t\t<dd>11.9217150823493</dd>\n",
       "\t<dt>Runs</dt>\n",
       "\t\t<dd>15.2464175021018</dd>\n",
       "\t<dt>CWalks</dt>\n",
       "\t\t<dd>19.7441050138344</dd>\n",
       "\t<dt>AtBat</dt>\n",
       "\t\t<dd>22.9443659168367</dd>\n",
       "\t<dt>Hits</dt>\n",
       "\t\t<dd>30.2812553304999</dd>\n",
       "\t<dt>CHmRun</dt>\n",
       "\t\t<dd>46.4884615297061</dd>\n",
       "\t<dt>CRBI</dt>\n",
       "\t\t<dd>131.965857675727</dd>\n",
       "\t<dt>CRuns</dt>\n",
       "\t\t<dd>162.520810150356</dd>\n",
       "\t<dt>CAtBat</dt>\n",
       "\t\t<dd>251.561159564836</dd>\n",
       "\t<dt>CHits</dt>\n",
       "\t\t<dd>502.954289038417</dd>\n",
       "</dl>\n"
      ],
      "text/latex": [
       "\\begin{description*}\n",
       "\\item[Division] 1.07539750070722\n",
       "\\item[PutOuts] 1.23631696225219\n",
       "\\item[Errors] 2.2145434666868\n",
       "\\item[Assists] 2.70934093675956\n",
       "\\item[NewLeague] 4.09906344956512\n",
       "\\item[League] 4.13411529083501\n",
       "\\item[Walks] 4.14871197167351\n",
       "\\item[HmRun] 7.75866785484265\n",
       "\\item[Years] 9.31327990233624\n",
       "\\item[RBI] 11.9217150823493\n",
       "\\item[Runs] 15.2464175021018\n",
       "\\item[CWalks] 19.7441050138344\n",
       "\\item[AtBat] 22.9443659168367\n",
       "\\item[Hits] 30.2812553304999\n",
       "\\item[CHmRun] 46.4884615297061\n",
       "\\item[CRBI] 131.965857675727\n",
       "\\item[CRuns] 162.520810150356\n",
       "\\item[CAtBat] 251.561159564836\n",
       "\\item[CHits] 502.954289038417\n",
       "\\end{description*}\n"
      ],
      "text/markdown": [
       "Division\n",
       ":   1.07539750070722PutOuts\n",
       ":   1.23631696225219Errors\n",
       ":   2.2145434666868Assists\n",
       ":   2.70934093675956NewLeague\n",
       ":   4.09906344956512League\n",
       ":   4.13411529083501Walks\n",
       ":   4.14871197167351HmRun\n",
       ":   7.75866785484265Years\n",
       ":   9.31327990233624RBI\n",
       ":   11.9217150823493Runs\n",
       ":   15.2464175021018CWalks\n",
       ":   19.7441050138344AtBat\n",
       ":   22.9443659168367Hits\n",
       ":   30.2812553304999CHmRun\n",
       ":   46.4884615297061CRBI\n",
       ":   131.965857675727CRuns\n",
       ":   162.520810150356CAtBat\n",
       ":   251.561159564836CHits\n",
       ":   502.954289038417\n",
       "\n"
      ],
      "text/plain": [
       "  Division    PutOuts     Errors    Assists  NewLeague     League      Walks \n",
       "  1.075398   1.236317   2.214543   2.709341   4.099063   4.134115   4.148712 \n",
       "     HmRun      Years        RBI       Runs     CWalks      AtBat       Hits \n",
       "  7.758668   9.313280  11.921715  15.246418  19.744105  22.944366  30.281255 \n",
       "    CHmRun       CRBI      CRuns     CAtBat      CHits \n",
       " 46.488462 131.965858 162.520810 251.561160 502.954289 "
      ]
     },
     "metadata": {},
     "output_type": "display_data"
    }
   ],
   "source": [
    "fullModel <- lm(Salary ~ ., data = data)\n",
    "sort(vif(fullModel))"
   ]
  },
  {
   "cell_type": "markdown",
   "metadata": {},
   "source": [
    "Based on the VIFs that were calculated above, we can see that multicollinearity is an issue. The top variables that are seriously affectd by this issue are: CRBI, CRuns, CAtBat, and Chits. These all have large VIFs, but this is not suprising since the # of runs scored and RBIs ina player's career are both going to be highly correlated with the # of hits the player gets in their career. And these will be highly correlated with # of times a player gets to bat in their career."
   ]
  },
  {
   "cell_type": "markdown",
   "metadata": {},
   "source": [
    "(b) Using the all-possible-subsets approach, find the model that best fits the observed data. This procedure may be automated using the regsubsets() function in R, but you must explain in your own words how this algorithm identifies the ‘best' model. Note that you do not need to perform this task in Python."
   ]
  },
  {
   "cell_type": "code",
   "execution_count": 15,
   "metadata": {},
   "outputs": [
    {
     "data": {
      "text/html": [
       "11"
      ],
      "text/latex": [
       "11"
      ],
      "text/markdown": [
       "11"
      ],
      "text/plain": [
       "[1] 11"
      ]
     },
     "metadata": {},
     "output_type": "display_data"
    },
    {
     "data": {
      "text/html": [
       "<dl class=dl-horizontal>\n",
       "\t<dt>(Intercept)</dt>\n",
       "\t\t<dd>TRUE</dd>\n",
       "\t<dt>AtBat</dt>\n",
       "\t\t<dd>TRUE</dd>\n",
       "\t<dt>Hits</dt>\n",
       "\t\t<dd>TRUE</dd>\n",
       "\t<dt>HmRun</dt>\n",
       "\t\t<dd>FALSE</dd>\n",
       "\t<dt>Runs</dt>\n",
       "\t\t<dd>FALSE</dd>\n",
       "\t<dt>RBI</dt>\n",
       "\t\t<dd>FALSE</dd>\n",
       "\t<dt>Walks</dt>\n",
       "\t\t<dd>TRUE</dd>\n",
       "\t<dt>Years</dt>\n",
       "\t\t<dd>FALSE</dd>\n",
       "\t<dt>CAtBat</dt>\n",
       "\t\t<dd>TRUE</dd>\n",
       "\t<dt>CHits</dt>\n",
       "\t\t<dd>FALSE</dd>\n",
       "\t<dt>CHmRun</dt>\n",
       "\t\t<dd>FALSE</dd>\n",
       "\t<dt>CRuns</dt>\n",
       "\t\t<dd>TRUE</dd>\n",
       "\t<dt>CRBI</dt>\n",
       "\t\t<dd>TRUE</dd>\n",
       "\t<dt>CWalks</dt>\n",
       "\t\t<dd>TRUE</dd>\n",
       "\t<dt>LeagueN</dt>\n",
       "\t\t<dd>TRUE</dd>\n",
       "\t<dt>DivisionW</dt>\n",
       "\t\t<dd>TRUE</dd>\n",
       "\t<dt>PutOuts</dt>\n",
       "\t\t<dd>TRUE</dd>\n",
       "\t<dt>Assists</dt>\n",
       "\t\t<dd>TRUE</dd>\n",
       "\t<dt>Errors</dt>\n",
       "\t\t<dd>FALSE</dd>\n",
       "\t<dt>NewLeagueN</dt>\n",
       "\t\t<dd>FALSE</dd>\n",
       "</dl>\n"
      ],
      "text/latex": [
       "\\begin{description*}\n",
       "\\item[(Intercept)] TRUE\n",
       "\\item[AtBat] TRUE\n",
       "\\item[Hits] TRUE\n",
       "\\item[HmRun] FALSE\n",
       "\\item[Runs] FALSE\n",
       "\\item[RBI] FALSE\n",
       "\\item[Walks] TRUE\n",
       "\\item[Years] FALSE\n",
       "\\item[CAtBat] TRUE\n",
       "\\item[CHits] FALSE\n",
       "\\item[CHmRun] FALSE\n",
       "\\item[CRuns] TRUE\n",
       "\\item[CRBI] TRUE\n",
       "\\item[CWalks] TRUE\n",
       "\\item[LeagueN] TRUE\n",
       "\\item[DivisionW] TRUE\n",
       "\\item[PutOuts] TRUE\n",
       "\\item[Assists] TRUE\n",
       "\\item[Errors] FALSE\n",
       "\\item[NewLeagueN] FALSE\n",
       "\\end{description*}\n"
      ],
      "text/markdown": [
       "(Intercept)\n",
       ":   TRUEAtBat\n",
       ":   TRUEHits\n",
       ":   TRUEHmRun\n",
       ":   FALSERuns\n",
       ":   FALSERBI\n",
       ":   FALSEWalks\n",
       ":   TRUEYears\n",
       ":   FALSECAtBat\n",
       ":   TRUECHits\n",
       ":   FALSECHmRun\n",
       ":   FALSECRuns\n",
       ":   TRUECRBI\n",
       ":   TRUECWalks\n",
       ":   TRUELeagueN\n",
       ":   TRUEDivisionW\n",
       ":   TRUEPutOuts\n",
       ":   TRUEAssists\n",
       ":   TRUEErrors\n",
       ":   FALSENewLeagueN\n",
       ":   FALSE\n",
       "\n"
      ],
      "text/plain": [
       "(Intercept)       AtBat        Hits       HmRun        Runs         RBI \n",
       "       TRUE        TRUE        TRUE       FALSE       FALSE       FALSE \n",
       "      Walks       Years      CAtBat       CHits      CHmRun       CRuns \n",
       "       TRUE       FALSE        TRUE       FALSE       FALSE        TRUE \n",
       "       CRBI      CWalks     LeagueN   DivisionW     PutOuts     Assists \n",
       "       TRUE        TRUE        TRUE        TRUE        TRUE        TRUE \n",
       "     Errors  NewLeagueN \n",
       "      FALSE       FALSE "
      ]
     },
     "metadata": {},
     "output_type": "display_data"
    },
    {
     "data": {
      "text/plain": [
       "\n",
       "Call:\n",
       "lm(formula = Salary ~ AtBat + Hits + Walks + CAtBat + CRuns + \n",
       "    CRBI + CWalks + League + Division + PutOuts + Assists, data = data)\n",
       "\n",
       "Residuals:\n",
       "   Min     1Q Median     3Q    Max \n",
       "-932.2 -175.4  -29.2  130.4 1897.2 \n",
       "\n",
       "Coefficients:\n",
       "              Estimate Std. Error t value Pr(>|t|)    \n",
       "(Intercept)  135.75122   71.34623   1.903 0.058223 .  \n",
       "AtBat         -2.12775    0.53746  -3.959 9.81e-05 ***\n",
       "Hits           6.92370    1.64612   4.206 3.62e-05 ***\n",
       "Walks          5.62028    1.59064   3.533 0.000488 ***\n",
       "CAtBat        -0.13899    0.05609  -2.478 0.013870 *  \n",
       "CRuns          1.45533    0.39270   3.706 0.000259 ***\n",
       "CRBI           0.78525    0.20978   3.743 0.000225 ***\n",
       "CWalks        -0.82286    0.26361  -3.121 0.002010 ** \n",
       "LeagueN       43.11162   39.96612   1.079 0.281755    \n",
       "DivisionW   -111.14603   39.21835  -2.834 0.004970 ** \n",
       "PutOuts        0.28941    0.07478   3.870 0.000139 ***\n",
       "Assists        0.26883    0.15816   1.700 0.090430 .  \n",
       "---\n",
       "Signif. codes:  0 ‘***’ 0.001 ‘**’ 0.01 ‘*’ 0.05 ‘.’ 0.1 ‘ ’ 1\n",
       "\n",
       "Residual standard error: 311.7 on 251 degrees of freedom\n",
       "Multiple R-squared:  0.5426,\tAdjusted R-squared:  0.5226 \n",
       "F-statistic: 27.07 on 11 and 251 DF,  p-value: < 2.2e-16\n"
      ]
     },
     "metadata": {},
     "output_type": "display_data"
    },
    {
     "data": {
      "image/png": "[encoded data removed]",
      "text/plain": [
       "Plot with title “Optimal Model Order”"
      ]
     },
     "metadata": {},
     "output_type": "display_data"
    }
   ],
   "source": [
    "all_poss <- regsubsets(Salary ~ ., data = data, nvmax = 19)\n",
    "all_poss_summ <- summary(all_poss)\n",
    "plot(all_poss_summ$adjr2, type = \"l\", xlab = \"Number of Explanatory Variables\", ylab = bquote(\"Adjusted R\"^2), main = \"Optimal Model Order\")\n",
    "points(all_poss_summ$adjr2, pch = 16)\n",
    "max_idx <- which.max(all_poss_summ$adjr2)\n",
    "max_idx\n",
    "points(x = max_idx, y = all_poss_summ$adjr2[max_idx], pch = 16, col = \"red\")\n",
    "all_poss_summ$which[max_idx,]\n",
    "m_ap <- lm(Salary ~ AtBat + Hits + Walks + CAtBat + CRuns + CRBI + CWalks + League + Division + PutOuts + Assists, data = data)\n",
    "summary(m_ap)"
   ]
  },
  {
   "cell_type": "markdown",
   "metadata": {},
   "source": [
    "The \"all possible subsets\", finds the best model by fittting all 2^19 (2^q) possible models and for a given # of explanatroy variables, uses R^2 to find the best model which is the model with the highest R^2. Now that we have 19 optimal models, from these we choose the model with the largest R^2adj. Based on the results above, our best model here has 11 explanatory varibales: AtBat, Hits, Walks, CAtBat, CRuns, CRBI, CWalks, League, Division, PutOuts, and Assists."
   ]
  },
  {
   "cell_type": "markdown",
   "metadata": {},
   "source": [
    "(c) Using the forward-stepwise-selection approach, find the model that best fits the observed data. This procedure may be automated using the stepAIC() function in R, but you must explain in your own words how this algorithm identifies the ‘best’ model. Note that you do not need to perform this task in Python."
   ]
  },
  {
   "cell_type": "code",
   "execution_count": 17,
   "metadata": {},
   "outputs": [
    {
     "data": {
      "text/plain": [
       "\n",
       "Call:\n",
       "lm(formula = Salary ~ CRBI + Hits + PutOuts + Division + AtBat + \n",
       "    Walks + CWalks + CRuns + CAtBat + Assists, data = data)\n",
       "\n",
       "Residuals:\n",
       "    Min      1Q  Median      3Q     Max \n",
       "-939.11 -176.87  -34.08  130.90 1910.55 \n",
       "\n",
       "Coefficients:\n",
       "              Estimate Std. Error t value Pr(>|t|)    \n",
       "(Intercept)  162.53544   66.90784   2.429 0.015830 *  \n",
       "CRBI           0.77431    0.20961   3.694 0.000271 ***\n",
       "Hits           6.91802    1.64665   4.201 3.69e-05 ***\n",
       "PutOuts        0.29737    0.07444   3.995 8.50e-05 ***\n",
       "DivisionW   -112.38006   39.21438  -2.866 0.004511 ** \n",
       "AtBat         -2.16865    0.53630  -4.044 7.00e-05 ***\n",
       "Walks          5.77322    1.58483   3.643 0.000327 ***\n",
       "CWalks        -0.83083    0.26359  -3.152 0.001818 ** \n",
       "CRuns          1.40825    0.39040   3.607 0.000373 ***\n",
       "CAtBat        -0.13008    0.05550  -2.344 0.019858 *  \n",
       "Assists        0.28317    0.15766   1.796 0.073673 .  \n",
       "---\n",
       "Signif. codes:  0 ‘***’ 0.001 ‘**’ 0.01 ‘*’ 0.05 ‘.’ 0.1 ‘ ’ 1\n",
       "\n",
       "Residual standard error: 311.8 on 252 degrees of freedom\n",
       "Multiple R-squared:  0.5405,\tAdjusted R-squared:  0.5223 \n",
       "F-statistic: 29.64 on 10 and 252 DF,  p-value: < 2.2e-16\n"
      ]
     },
     "metadata": {},
     "output_type": "display_data"
    }
   ],
   "source": [
    "small <- lm(Salary ~ 1, data = data)\n",
    "large <- lm(Salary ~ ., data = data)\n",
    "forwardModel <- stepAIC(object = small, scope = list(upper = large, lower = small), direction = \"forward\", trace = 0)\n",
    "summary(forwardModel)"
   ]
  },
  {
   "cell_type": "markdown",
   "metadata": {},
   "source": [
    "In \"forward selection\" we start by considering all possible simple linear regressions containing just one of each of the  q=19  explanatory variables. We then look at the AIC values for each of these models, where the model with the smallest AIC value is the best. This continues, each time considering all possible models that could be created by adding one of the remaining explanatory variables into the current 'optimal' model. Before the next step, the model with the lowest AIC moves onto the next step. If at any step we can no longer add the model with the smallest AIC then this alogorithm stops and the model from the previous step is the 'optimal' model. Based on the results above our 'optimal' model using forward selection has the following explanatory varibales in order: CRBI, Hits, PutOuts, DivisionW, AtBat, Walks, CWalks, CRuns, CAtBat, and Assists."
   ]
  },
  {
   "cell_type": "markdown",
   "metadata": {},
   "source": [
    "(d) Using the backward-stepwise-selection approach, find the model that best fits the observed data. This procedure may be automated using the stepAIC() function in R, but you must explain in your own words how this algorithm identifies the ‘best’ model. Note that you do not need to perform this task in Python."
   ]
  },
  {
   "cell_type": "code",
   "execution_count": 18,
   "metadata": {},
   "outputs": [
    {
     "data": {
      "text/plain": [
       "\n",
       "Call:\n",
       "lm(formula = Salary ~ AtBat + Hits + Walks + CAtBat + CRuns + \n",
       "    CRBI + CWalks + Division + PutOuts + Assists, data = data)\n",
       "\n",
       "Residuals:\n",
       "    Min      1Q  Median      3Q     Max \n",
       "-939.11 -176.87  -34.08  130.90 1910.55 \n",
       "\n",
       "Coefficients:\n",
       "              Estimate Std. Error t value Pr(>|t|)    \n",
       "(Intercept)  162.53544   66.90784   2.429 0.015830 *  \n",
       "AtBat         -2.16865    0.53630  -4.044 7.00e-05 ***\n",
       "Hits           6.91802    1.64665   4.201 3.69e-05 ***\n",
       "Walks          5.77322    1.58483   3.643 0.000327 ***\n",
       "CAtBat        -0.13008    0.05550  -2.344 0.019858 *  \n",
       "CRuns          1.40825    0.39040   3.607 0.000373 ***\n",
       "CRBI           0.77431    0.20961   3.694 0.000271 ***\n",
       "CWalks        -0.83083    0.26359  -3.152 0.001818 ** \n",
       "DivisionW   -112.38006   39.21438  -2.866 0.004511 ** \n",
       "PutOuts        0.29737    0.07444   3.995 8.50e-05 ***\n",
       "Assists        0.28317    0.15766   1.796 0.073673 .  \n",
       "---\n",
       "Signif. codes:  0 ‘***’ 0.001 ‘**’ 0.01 ‘*’ 0.05 ‘.’ 0.1 ‘ ’ 1\n",
       "\n",
       "Residual standard error: 311.8 on 252 degrees of freedom\n",
       "Multiple R-squared:  0.5405,\tAdjusted R-squared:  0.5223 \n",
       "F-statistic: 29.64 on 10 and 252 DF,  p-value: < 2.2e-16\n"
      ]
     },
     "metadata": {},
     "output_type": "display_data"
    }
   ],
   "source": [
    "backwardModel <- stepAIC(object = large, scope = list(upper = large, lower = small), direction = \"backward\", trace = 0)\n",
    "summary(backwardModel)"
   ]
  },
  {
   "cell_type": "markdown",
   "metadata": {},
   "source": [
    "In \"backward selection\", we first fit the full model which has q = 19 explanatory variables. Now we should consider all possible models if one of the explanatory variables were removed. We choose the best model with the smallest AIC value. We repreat this process until each time by removing an explanatory varibale from the current 'optimal' model. At every step we keep the model with the smallest AIC value. And if at any stage we can no longer remove explanatory varibales (AIC value is never smaller) then we keep the model from th previous step ad stop the alogrithm. The results in this case as we see above show that the optimal model contains the following explanatory varibales: AtBat, Hits, Walks, CAtBat, CRuns, CRBI, CWalks, DivisionW, PutOuts and Assists. Note: That this is the same model that resulted from forward selection in part(d)."
   ]
  },
  {
   "cell_type": "markdown",
   "metadata": {},
   "source": [
    "(e) Using the hybrid-stepwise-selection approach, find the model that best fits the observed data. This procedure may be automated using the stepAIC() function in R, but you must explain in your own words how this algorithm identifies the ‘best’ model. Note that you do not need to perform this task in Python."
   ]
  },
  {
   "cell_type": "code",
   "execution_count": 19,
   "metadata": {},
   "outputs": [
    {
     "data": {
      "text/plain": [
       "\n",
       "Call:\n",
       "lm(formula = Salary ~ CRBI + Hits + PutOuts + Division + AtBat + \n",
       "    Walks + CWalks + CRuns + CAtBat + Assists, data = data)\n",
       "\n",
       "Residuals:\n",
       "    Min      1Q  Median      3Q     Max \n",
       "-939.11 -176.87  -34.08  130.90 1910.55 \n",
       "\n",
       "Coefficients:\n",
       "              Estimate Std. Error t value Pr(>|t|)    \n",
       "(Intercept)  162.53544   66.90784   2.429 0.015830 *  \n",
       "CRBI           0.77431    0.20961   3.694 0.000271 ***\n",
       "Hits           6.91802    1.64665   4.201 3.69e-05 ***\n",
       "PutOuts        0.29737    0.07444   3.995 8.50e-05 ***\n",
       "DivisionW   -112.38006   39.21438  -2.866 0.004511 ** \n",
       "AtBat         -2.16865    0.53630  -4.044 7.00e-05 ***\n",
       "Walks          5.77322    1.58483   3.643 0.000327 ***\n",
       "CWalks        -0.83083    0.26359  -3.152 0.001818 ** \n",
       "CRuns          1.40825    0.39040   3.607 0.000373 ***\n",
       "CAtBat        -0.13008    0.05550  -2.344 0.019858 *  \n",
       "Assists        0.28317    0.15766   1.796 0.073673 .  \n",
       "---\n",
       "Signif. codes:  0 ‘***’ 0.001 ‘**’ 0.01 ‘*’ 0.05 ‘.’ 0.1 ‘ ’ 1\n",
       "\n",
       "Residual standard error: 311.8 on 252 degrees of freedom\n",
       "Multiple R-squared:  0.5405,\tAdjusted R-squared:  0.5223 \n",
       "F-statistic: 29.64 on 10 and 252 DF,  p-value: < 2.2e-16\n"
      ]
     },
     "metadata": {},
     "output_type": "display_data"
    }
   ],
   "source": [
    "hybridModel <- stepAIC(object = small, scope = list(upper = large, lower = small), direction = \"both\", trace = 0)\n",
    "summary(hybridModel)"
   ]
  },
  {
   "cell_type": "markdown",
   "metadata": {},
   "source": [
    "In \"hybrid-stepwise-selection\" is basically forward and backward selection combined. What I mean by this is that say we start with forward selection then we would continue the foward slection algorithm, the only difference here is that at every step once we've added the best explanatory varibale then we will also be checking if the model can be impoved by removing any explanatory varibales. Now, if we start with backward selection then we would continue the backward slelection algorithm, the only differnece here is that at every step once the least important explanatory varibale is removed then we will also be checking is any explanatory varibales that are NOT in the model should be added back in. In both cases, we will continue alternating until we can no longer add or remove explanatory varibales (aka the AIC will no longer decrease). The results in this case as we see above show that the optimal model contains the following explanatory varibales: CRBI, Hits, PutOuts, DivisionW, AtBat, Walks, CWalks, CRuns, CAtBat, and Assists. Note: That every stepwise selection alogirhtm results in the same 'optimal' model."
   ]
  },
  {
   "cell_type": "markdown",
   "metadata": {},
   "source": [
    "(f) In this part you will compare the predictive performance of four models:\n",
    "\n",
    "* i. The full model with all 19 explanatory variables.\n",
    "* ii. The optimal model identified in part (b).\n",
    "* iii. The best model from parts (c)-(e) (i.e., the best stepwise-selection model).\n",
    "* iv. The model that is considered optimal with respect to the Bayesian Information Criterion (BIC) which contains the variables AtBat, Hits, Walks, CRBI, Division and PutOuts.\n",
    "\n",
    "Randomly split the observed data into a training set (containing roughly 80% of all of the data) and a held-out test set (containing roughly 20% of all of the data). Calculate the predictive root-mean-square error (RMSE) for each of the four models. Which model appears to be most appropriate? Justify why this model is most appropriate."
   ]
  },
  {
   "cell_type": "code",
   "execution_count": 34,
   "metadata": {},
   "outputs": [
    {
     "data": {
      "text/html": [
       "'The predictive RMSE for the full model is 279.8718'"
      ],
      "text/latex": [
       "'The predictive RMSE for the full model is 279.8718'"
      ],
      "text/markdown": [
       "'The predictive RMSE for the full model is 279.8718'"
      ],
      "text/plain": [
       "[1] \"The predictive RMSE for the full model is 279.8718\""
      ]
     },
     "metadata": {},
     "output_type": "display_data"
    },
    {
     "data": {
      "text/html": [
       "'The predictive RMSE for the optimal model from part (b) is 297.6638'"
      ],
      "text/latex": [
       "'The predictive RMSE for the optimal model from part (b) is 297.6638'"
      ],
      "text/markdown": [
       "'The predictive RMSE for the optimal model from part (b) is 297.6638'"
      ],
      "text/plain": [
       "[1] \"The predictive RMSE for the optimal model from part (b) is 297.6638\""
      ]
     },
     "metadata": {},
     "output_type": "display_data"
    },
    {
     "data": {
      "text/html": [
       "'The predictive RMSE for the best model selected by stepwise selection is 299.3206'"
      ],
      "text/latex": [
       "'The predictive RMSE for the best model selected by stepwise selection is 299.3206'"
      ],
      "text/markdown": [
       "'The predictive RMSE for the best model selected by stepwise selection is 299.3206'"
      ],
      "text/plain": [
       "[1] \"The predictive RMSE for the best model selected by stepwise selection is 299.3206\""
      ]
     },
     "metadata": {},
     "output_type": "display_data"
    },
    {
     "data": {
      "text/html": [
       "'The predictive RMSE for the optimal model (in terms of BIC) is 319.4919'"
      ],
      "text/latex": [
       "'The predictive RMSE for the optimal model (in terms of BIC) is 319.4919'"
      ],
      "text/markdown": [
       "'The predictive RMSE for the optimal model (in terms of BIC) is 319.4919'"
      ],
      "text/plain": [
       "[1] \"The predictive RMSE for the optimal model (in terms of BIC) is 319.4919\""
      ]
     },
     "metadata": {},
     "output_type": "display_data"
    }
   ],
   "source": [
    "n <- dim(data)[1]\n",
    "trn <- sample(x = c(rep(TRUE, round(0.8*n)), rep(FALSE, n-round(0.8*n))), size = n, replace = FALSE)\n",
    "train <- data[trn,]\n",
    "tst <- !trn \n",
    "test <- data[tst,]\n",
    "\n",
    "#i. The full model with all 19 explanatory variables.\n",
    "model1 <- lm(Salary ~ ., data = data)\n",
    "pred1 <- predict(object = model1, newdata = test)\n",
    "RMSE1 <- sqrt(mean((test$Salary - pred1)^2))\n",
    "paste(\"The predictive RMSE for the full model is \", round(RMSE1, 4), sep = \"\")\n",
    "\n",
    "#ii. The optimal model identified in part (b).\n",
    "model2 <- lm(Salary ~ AtBat + Hits + Walks + CAtBat + CRuns + CRBI + CWalks + League + Division + PutOuts + Assists, data = train)\n",
    "pred2 <- predict(object = model2, newdata = test)\n",
    "RMSE2 <- sqrt(mean((test$Salary - pred2)^2))\n",
    "paste(\"The predictive RMSE for the optimal model from part (b) is \", round(RMSE2, 4), sep = \"\")\n",
    "\n",
    "#iii. The best model from parts (c)-(e) (i.e., the best stepwise-selection model).\n",
    "model3 <- lm(Salary ~ CRBI + Hits + PutOuts + Division + AtBat + Walks + CWalks + CRuns + CAtBat + Assists, data = train)\n",
    "pred3 <- predict(object = model3, newdata = test)\n",
    "RMSE3 <- sqrt(mean((test$Salary - pred3)^2))\n",
    "paste(\"The predictive RMSE for the best model selected by stepwise selection is \", round(RMSE3, 4), sep = \"\")\n",
    "\n",
    "#iv. The model that is considered optimal with respect to the Bayesian Information Criterion (BIC) which contains the variables AtBat, Hits, Walks, CRBI, Division and PutOuts.\n",
    "model4 <- lm(Salary ~ AtBat + Hits + Walks + CRBI + Division + PutOuts, data = train)\n",
    "pred4 <- predict(object = model4, newdata = test)\n",
    "RMSE4 <- sqrt(mean((test$Salary - pred4)^2))\n",
    "paste(\"The predictive RMSE for the optimal model (in terms of BIC) is \", round(RMSE4, 4), sep = \"\")"
   ]
  },
  {
   "cell_type": "markdown",
   "metadata": {},
   "source": [
    "Based on the RMSE, the best predicitive model is the full model since it has the smallest RMSE. In contrast, the worst predicitive model is the optimal BIC model since it has the largest RMSE. And both the optimal model from part (b) and the stepwise selection mdoel perform similarly since the difference between both there RMSE values is very small."
   ]
  },
  {
   "cell_type": "markdown",
   "metadata": {},
   "source": [
    "(g) As in part (f), you must compare the predictive performance of the same four models, but here you must determine the predictive accuracy (predictive RMSE) by using 10-Fold Cross Validation. Which model appears to be most appropriate? Justify why this model is most appropriate."
   ]
  },
  {
   "cell_type": "code",
   "execution_count": 39,
   "metadata": {},
   "outputs": [
    {
     "data": {
      "text/html": [
       "'The predictive RMSE for the full model is 338.8668'"
      ],
      "text/latex": [
       "'The predictive RMSE for the full model is 338.8668'"
      ],
      "text/markdown": [
       "'The predictive RMSE for the full model is 338.8668'"
      ],
      "text/plain": [
       "[1] \"The predictive RMSE for the full model is 338.8668\""
      ]
     },
     "metadata": {},
     "output_type": "display_data"
    },
    {
     "data": {
      "text/html": [
       "'The predictive RMSE for the optimal model from part (b) is 330.5222'"
      ],
      "text/latex": [
       "'The predictive RMSE for the optimal model from part (b) is 330.5222'"
      ],
      "text/markdown": [
       "'The predictive RMSE for the optimal model from part (b) is 330.5222'"
      ],
      "text/plain": [
       "[1] \"The predictive RMSE for the optimal model from part (b) is 330.5222\""
      ]
     },
     "metadata": {},
     "output_type": "display_data"
    },
    {
     "data": {
      "text/html": [
       "'The predictive RMSE for the best model selected by stepwise selection is 331.778'"
      ],
      "text/latex": [
       "'The predictive RMSE for the best model selected by stepwise selection is 331.778'"
      ],
      "text/markdown": [
       "'The predictive RMSE for the best model selected by stepwise selection is 331.778'"
      ],
      "text/plain": [
       "[1] \"The predictive RMSE for the best model selected by stepwise selection is 331.778\""
      ]
     },
     "metadata": {},
     "output_type": "display_data"
    },
    {
     "data": {
      "text/html": [
       "'The predictive RMSE for the optimal model (in terms of BIC) is 329.4752'"
      ],
      "text/latex": [
       "'The predictive RMSE for the optimal model (in terms of BIC) is 329.4752'"
      ],
      "text/markdown": [
       "'The predictive RMSE for the optimal model (in terms of BIC) is 329.4752'"
      ],
      "text/plain": [
       "[1] \"The predictive RMSE for the optimal model (in terms of BIC) is 329.4752\""
      ]
     },
     "metadata": {},
     "output_type": "display_data"
    }
   ],
   "source": [
    "#i. The full model with all 19 explanatory variables.\n",
    "model1 <- glm(Salary ~ ., data = data)\n",
    "RMSE1 <- sqrt((cv.glm(data, model1, K = 10)$delta)[1])\n",
    "paste(\"The predictive RMSE for the full model is \", round(RMSE1, 4), sep = \"\")\n",
    "\n",
    "#ii. The optimal model identified in part (b).\n",
    "model2 <- glm(Salary ~ AtBat + Hits + Walks + CAtBat + CRuns + CRBI + CWalks + League + Division + PutOuts + Assists, data = data)\n",
    "RMSE2 <- sqrt((cv.glm(data, model2 , K = 10)$delta)[1])\n",
    "paste(\"The predictive RMSE for the optimal model from part (b) is \", round(RMSE2, 4), sep = \"\")\n",
    "\n",
    "#iii. The best model from parts (c)-(e) (i.e., the best stepwise-selection model).\n",
    "model3 <- glm(Salary ~ CRBI + Hits + PutOuts + Division + AtBat + Walks + CWalks + CRuns + CAtBat + Assists, data = data)\n",
    "RMSE3 <- sqrt((cv.glm(data, model3, K = 10)$delta)[1])\n",
    "paste(\"The predictive RMSE for the best model selected by stepwise selection is \", round(RMSE3, 4), sep = \"\")\n",
    "\n",
    "#iv. The model that is considered optimal with respect to the Bayesian Information Criterion (BIC) which contains the variables AtBat, Hits, Walks, CRBI, Division and PutOuts.\n",
    "model4 <- glm(Salary ~ AtBat + Hits + Walks + CRBI + Division + PutOuts, data = data)\n",
    "RMSE4 <- sqrt((cv.glm(data, model4, K = 10)$delta)[1])\n",
    "paste(\"The predictive RMSE for the optimal model (in terms of BIC) is \", round(RMSE4, 4), sep = \"\")"
   ]
  },
  {
   "cell_type": "markdown",
   "metadata": {},
   "source": [
    "Based on the RMSE, the best predicitive model is the optimal BIC model since it has the smallest RMSE. In contrast, the worst predicitive model is the full model since it has the largest RMSE. And both the optimal model from part (b) and the stepwise selection mdoel perform similarly since the difference between both there RMSE values is very small."
   ]
  },
  {
   "cell_type": "markdown",
   "metadata": {},
   "source": [
    "(h) Given the estimates of predictive accuracy from parts (f) and (g) indicate which estimates you believe to be more accurate. In other words, indicate which validation approach (i.e., cross validation vs. k-fold cross validation) you believe will most accurately estimate the predictive capability of a model. Briefly explain your rationale."
   ]
  },
  {
   "cell_type": "markdown",
   "metadata": {},
   "source": [
    "In our case, we see that the 10-fold cross validation uses all of the data provided and giving us a more accurate predictive model. Therefore, the k-fold corss validation estimates are more accurate than cross validation since k-cross validation follows the 80-20 parition we want instead of individual partitions like in cross validation."
   ]
  },
  {
   "cell_type": "markdown",
   "metadata": {},
   "source": [
    "(i) Accounting for all of the analyses you’ve performed (i.e., multicollinearity, goodness-of-fit, and predictive accuracy), which model would you be most comfortable using? Briefly justify your choice. [Note: I’m not looking for a right or wrong answer here; I want to see that you can sensibly and eloquently justify your choice]."
   ]
  },
  {
   "cell_type": "markdown",
   "metadata": {},
   "source": [
    "I'd be more comfortable using the optimal BIC model since we see in part (g) that it is the best predictive model when using 10-fold cross validation which we discussed in (h) has the best accuracy over cross-validation results. Another reason for this decision is that the optimal BIC model is also protected from multicollinearity compared to other models. This protection comes from the model only containing one of the multicollinear explanatory varibales."
   ]
  }
 ],
 "metadata": {
  "kernelspec": {
   "display_name": "R",
   "language": "R",
   "name": "ir"
  },
  "language_info": {
   "codemirror_mode": "r",
   "file_extension": ".r",
   "mimetype": "text/x-r-source",
   "name": "R",
   "pygments_lexer": "r",
   "version": "3.3.2"
  }
 },
 "nbformat": 4,
 "nbformat_minor": 2
}
